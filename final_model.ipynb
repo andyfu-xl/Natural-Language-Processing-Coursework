{
  "cells": [
    {
      "cell_type": "code",
      "execution_count": 1,
      "metadata": {
        "colab": {
          "base_uri": "https://localhost:8080/"
        },
        "id": "UFIJZgwy5MKz",
        "outputId": "3e2fb386-1dfe-4376-d3cb-cbbb5245b865"
      },
      "outputs": [
        {
          "output_type": "stream",
          "name": "stdout",
          "text": [
            "Drive already mounted at /content/drive; to attempt to forcibly remount, call drive.mount(\"/content/drive\", force_remount=True).\n"
          ]
        }
      ],
      "source": [
        "from google.colab import drive\n",
        "drive.mount('/content/drive')"
      ]
    },
    {
      "cell_type": "code",
      "execution_count": 2,
      "metadata": {
        "colab": {
          "base_uri": "https://localhost:8080/"
        },
        "id": "8r_TYIX5wScn",
        "outputId": "537f4135-0042-4f14-b8de-cebf4a56730a"
      },
      "outputs": [
        {
          "output_type": "stream",
          "name": "stdout",
          "text": [
            "/content/drive/.shortcut-targets-by-id/1a0AYktucYMqPmaYN7W78vjau1UVtyLYB/NLP\n"
          ]
        }
      ],
      "source": [
        "cd '/content/drive/MyDrive/Colab Notebooks/NLP'"
      ]
    },
    {
      "cell_type": "code",
      "execution_count": 3,
      "metadata": {
        "id": "sWLlY8uU41G1"
      },
      "outputs": [],
      "source": [
        "!pip install -q accelerate -U\n",
        "!pip install -q nlpaug simpletransformers"
      ]
    },
    {
      "cell_type": "code",
      "execution_count": 4,
      "metadata": {
        "colab": {
          "base_uri": "https://localhost:8080/",
          "height": 17
        },
        "id": "QGKYUi8F41G3",
        "outputId": "4a57b191-bb16-42c9-adc0-7029fbb108cb"
      },
      "outputs": [
        {
          "output_type": "execute_result",
          "data": {
            "text/plain": [],
            "application/vnd.google.colaboratory.intrinsic+json": {
              "type": "string"
            }
          },
          "metadata": {},
          "execution_count": 4
        }
      ],
      "source": [
        "import os\n",
        "import wandb\n",
        "import pandas as pd\n",
        "import logging\n",
        "import torch\n",
        "from sklearn.metrics import f1_score\n",
        "from sklearn.model_selection import train_test_split\n",
        "import numpy as np\n",
        "from dont_patronize_me import DontPatronizeMe\n",
        "from torch.utils.data import Dataset\n",
        "import pandas as pd\n",
        "from transformers import DebertaTokenizer, DebertaForSequenceClassification\n",
        "from transformers import Trainer, TrainingArguments\n",
        "import torch\n",
        "import data_analysis_and_preprocessing.data_preprocessing as data_preprocessing\n",
        "import nlpaug.augmenter.word as naw\n",
        "\n",
        "# Disable wandb authorization request\n",
        "os.environ[\"WANDB_START_METHOD\"]=\"thread\"\n",
        "wandb.init(mode=\"disabled\")"
      ]
    },
    {
      "cell_type": "code",
      "execution_count": 5,
      "metadata": {
        "colab": {
          "base_uri": "https://localhost:8080/"
        },
        "id": "Yh7wPTIr41G3",
        "outputId": "98b7ed8f-d8da-464f-8ace-2e12cb51fccd"
      },
      "outputs": [
        {
          "output_type": "stream",
          "name": "stdout",
          "text": [
            "Cuda available? True\n"
          ]
        }
      ],
      "source": [
        "random_seed = 42\n",
        "# prepare logger\n",
        "logging.basicConfig(level=logging.INFO)\n",
        "\n",
        "transformers_logger = logging.getLogger(\"transformers\")\n",
        "transformers_logger.setLevel(logging.WARNING)\n",
        "\n",
        "# check gpu\n",
        "cuda_available = torch.cuda.is_available()\n",
        "\n",
        "device = 'cuda' if cuda_available else 'cpu'\n",
        "\n",
        "print('Cuda available?', cuda_available)\n",
        "\n",
        "PREPROCESSING_MODE = 'BASIC' # Choose between BASIC, MEDIUM and HEAVY\n",
        "LOADING_MODE = 'k' # mode can be 'c', 'k', 'ck', ''"
      ]
    },
    {
      "cell_type": "code",
      "execution_count": 6,
      "metadata": {
        "id": "s81zBcAN41G4"
      },
      "outputs": [],
      "source": [
        "def preprocess_data(data):\n",
        "    data = data_preprocessing.remove_h_tags(data)\n",
        "    data = data_preprocessing.remove_ampersands(data)\n",
        "    data = data_preprocessing.remove_mentions(data)\n",
        "    if PREPROCESSING_MODE != 'BASIC':\n",
        "        data = data_preprocessing.lowercase(data)\n",
        "    data = data_preprocessing.remove_contractions(data)\n",
        "    if PREPROCESSING_MODE == 'HEAVY':\n",
        "        data = data_preprocessing.remove_multiple_quotations(data)\n",
        "    data = data_preprocessing.remove_extra_spaces(data)\n",
        "    return data\n",
        "\n",
        "\n",
        "def get_rows(data):\n",
        "    rows = [] # will contain par_id, label and text\n",
        "    for idx in data.index:\n",
        "        parid = data.loc[idx]['par_id']\n",
        "        instance = data.loc[idx]\n",
        "        keyword = instance['keyword']\n",
        "        country = instance['country']\n",
        "        text = instance['text']\n",
        "        if LOADING_MODE == 'c':\n",
        "            text = country + ' | ' + text\n",
        "        elif LOADING_MODE == 'k':\n",
        "            text = keyword + ' | ' + text\n",
        "        elif LOADING_MODE == 'ck':\n",
        "            text = country + ' | ' + keyword + ' | ' + text\n",
        "        rows.append({\n",
        "            'par_id':parid,\n",
        "            'text':text,\n",
        "            'label':instance['label']\n",
        "        })\n",
        "    return rows\n",
        "\n",
        "\n",
        "def load_data(random_state=random_seed):\n",
        "    dpm = DontPatronizeMe('.', '.')\n",
        "    dpm.load_task1()\n",
        "    trids = pd.read_csv('data/train_semeval_parids-labels.csv')\n",
        "    trids.par_id = trids.par_id.astype(str)\n",
        "    teids = pd.read_csv('data/dev_semeval_parids-labels.csv')\n",
        "    teids.par_id = teids.par_id.astype(str)\n",
        "    data = dpm.train_task1_df\n",
        "\n",
        "    rows_train = [] # will contain par_id, label and text\n",
        "    for idx in range(len(trids)):\n",
        "        parid = trids.par_id[idx]\n",
        "        # select row from original dataset to retrieve `text` and binary label\n",
        "        instance = data.loc[data.par_id == parid]\n",
        "        keyword = instance.keyword.values[0]\n",
        "        text = instance.text.values[0]\n",
        "        label = instance.label.values[0]\n",
        "        country = instance.country.values[0]\n",
        "        rows_train.append({\n",
        "            'par_id':parid,\n",
        "            'keyword':keyword,\n",
        "            'country':country,\n",
        "            'text':text,\n",
        "            'label':label\n",
        "        })\n",
        "\n",
        "    train_set = pd.DataFrame(rows_train).sample(frac=1, random_state=random_state)\n",
        "    train_set = preprocess_data(train_set)\n",
        "\n",
        "    # reindex the train_set\n",
        "    train_set = train_set.reset_index(drop=True)\n",
        "    rows_train = get_rows(train_set)\n",
        "    train_dataset_raw = pd.DataFrame(rows_train)\n",
        "    train_dataframe = pd.DataFrame(rows_train)\n",
        "\n",
        "    rows_test = [] # will contain par_id, label and text\n",
        "    for idx in range(len(teids)):\n",
        "        parid = teids.par_id[idx]\n",
        "        #print(parid)\n",
        "        # select row from original dataset\n",
        "        instance = data.loc[data.par_id == parid]\n",
        "        keyword = instance.keyword.values[0]\n",
        "        text = instance.text.values[0]\n",
        "        label = instance.label.values[0]\n",
        "        country = instance.country.values[0]\n",
        "        rows_test.append({\n",
        "            'par_id':parid,\n",
        "            'keyword':keyword,\n",
        "            'country':country,\n",
        "            'text':text,\n",
        "            'label':label\n",
        "        })\n",
        "\n",
        "    test_set = pd.DataFrame(rows_test)\n",
        "    test_set = preprocess_data(test_set)\n",
        "\n",
        "    rows_test = get_rows(test_set)\n",
        "    test_dataframe = pd.DataFrame(rows_test)\n",
        "\n",
        "    print(len(train_dataframe), len(test_dataframe))\n",
        "\n",
        "    return train_dataframe, test_dataframe\n",
        "\n",
        "\n",
        "\n",
        "class CustomDataset(Dataset):\n",
        "    def __init__(self, encodings):\n",
        "        self.encodings = encodings\n",
        "\n",
        "    def __getitem__(self, idx):\n",
        "        train_input_ids = self.encodings.input_ids[idx]\n",
        "        train_token_type_ids = self.encodings.token_type_ids[idx]\n",
        "        train_attention_mask = self.encodings.attention_mask[idx]\n",
        "        train_labels = self.encodings.label[idx]\n",
        "        return {\n",
        "            'input_ids': train_input_ids,\n",
        "            'token_type_ids': train_token_type_ids,\n",
        "            'attention_mask': train_attention_mask,\n",
        "            'labels': train_labels\n",
        "        }\n",
        "\n",
        "    def __len__(self):\n",
        "        return len(self.encodings.input_ids)"
      ]
    },
    {
      "cell_type": "code",
      "execution_count": 7,
      "metadata": {
        "colab": {
          "base_uri": "https://localhost:8080/"
        },
        "id": "DxEc43QM7gaH",
        "outputId": "7b17dbf5-d28a-4ac6-dae3-6933d7471d15"
      },
      "outputs": [
        {
          "output_type": "stream",
          "name": "stderr",
          "text": [
            "/content/data_analysis_and_preprocessing/data_preprocessing.py:47: FutureWarning: Possible nested set at position 3\n",
            "  data_no_mentions.at[index, 'text'] = re.sub(r'@([[a-z]|[A-Z]|[1-9]|0])+\\s', '', data_no_mentions['text'][index][:5])\n"
          ]
        },
        {
          "output_type": "stream",
          "name": "stdout",
          "text": [
            "8375 2094\n"
          ]
        }
      ],
      "source": [
        "train_dataset_raw, test_dataset_raw = load_data()"
      ]
    },
    {
      "cell_type": "code",
      "execution_count": 8,
      "metadata": {
        "colab": {
          "base_uri": "https://localhost:8080/",
          "height": 206
        },
        "id": "I1fBrTfmwScs",
        "outputId": "76042780-e26f-4d30-9343-a7f3a8d26ca9"
      },
      "outputs": [
        {
          "output_type": "execute_result",
          "data": {
            "text/plain": [
              "  par_id                                               text  label\n",
              "0   4355  in-need | The Kindness Institute came about th...      0\n",
              "1   8147  refugee | Minister Swaminathan forwarded a Cab...      0\n",
              "2   1728  migrant | \"Human Rights Watch last month relea...      0\n",
              "3   3781  migrant | \"The book is \"\" Never Look an Americ...      0\n",
              "4   5083  immigrant | Born to immigrant Indian parents i...      0"
            ],
            "text/html": [
              "\n",
              "  <div id=\"df-12972262-02e8-406b-8eb6-840d2c04a9c5\" class=\"colab-df-container\">\n",
              "    <div>\n",
              "<style scoped>\n",
              "    .dataframe tbody tr th:only-of-type {\n",
              "        vertical-align: middle;\n",
              "    }\n",
              "\n",
              "    .dataframe tbody tr th {\n",
              "        vertical-align: top;\n",
              "    }\n",
              "\n",
              "    .dataframe thead th {\n",
              "        text-align: right;\n",
              "    }\n",
              "</style>\n",
              "<table border=\"1\" class=\"dataframe\">\n",
              "  <thead>\n",
              "    <tr style=\"text-align: right;\">\n",
              "      <th></th>\n",
              "      <th>par_id</th>\n",
              "      <th>text</th>\n",
              "      <th>label</th>\n",
              "    </tr>\n",
              "  </thead>\n",
              "  <tbody>\n",
              "    <tr>\n",
              "      <th>0</th>\n",
              "      <td>4355</td>\n",
              "      <td>in-need | The Kindness Institute came about th...</td>\n",
              "      <td>0</td>\n",
              "    </tr>\n",
              "    <tr>\n",
              "      <th>1</th>\n",
              "      <td>8147</td>\n",
              "      <td>refugee | Minister Swaminathan forwarded a Cab...</td>\n",
              "      <td>0</td>\n",
              "    </tr>\n",
              "    <tr>\n",
              "      <th>2</th>\n",
              "      <td>1728</td>\n",
              "      <td>migrant | \"Human Rights Watch last month relea...</td>\n",
              "      <td>0</td>\n",
              "    </tr>\n",
              "    <tr>\n",
              "      <th>3</th>\n",
              "      <td>3781</td>\n",
              "      <td>migrant | \"The book is \"\" Never Look an Americ...</td>\n",
              "      <td>0</td>\n",
              "    </tr>\n",
              "    <tr>\n",
              "      <th>4</th>\n",
              "      <td>5083</td>\n",
              "      <td>immigrant | Born to immigrant Indian parents i...</td>\n",
              "      <td>0</td>\n",
              "    </tr>\n",
              "  </tbody>\n",
              "</table>\n",
              "</div>\n",
              "    <div class=\"colab-df-buttons\">\n",
              "\n",
              "  <div class=\"colab-df-container\">\n",
              "    <button class=\"colab-df-convert\" onclick=\"convertToInteractive('df-12972262-02e8-406b-8eb6-840d2c04a9c5')\"\n",
              "            title=\"Convert this dataframe to an interactive table.\"\n",
              "            style=\"display:none;\">\n",
              "\n",
              "  <svg xmlns=\"http://www.w3.org/2000/svg\" height=\"24px\" viewBox=\"0 -960 960 960\">\n",
              "    <path d=\"M120-120v-720h720v720H120Zm60-500h600v-160H180v160Zm220 220h160v-160H400v160Zm0 220h160v-160H400v160ZM180-400h160v-160H180v160Zm440 0h160v-160H620v160ZM180-180h160v-160H180v160Zm440 0h160v-160H620v160Z\"/>\n",
              "  </svg>\n",
              "    </button>\n",
              "\n",
              "  <style>\n",
              "    .colab-df-container {\n",
              "      display:flex;\n",
              "      gap: 12px;\n",
              "    }\n",
              "\n",
              "    .colab-df-convert {\n",
              "      background-color: #E8F0FE;\n",
              "      border: none;\n",
              "      border-radius: 50%;\n",
              "      cursor: pointer;\n",
              "      display: none;\n",
              "      fill: #1967D2;\n",
              "      height: 32px;\n",
              "      padding: 0 0 0 0;\n",
              "      width: 32px;\n",
              "    }\n",
              "\n",
              "    .colab-df-convert:hover {\n",
              "      background-color: #E2EBFA;\n",
              "      box-shadow: 0px 1px 2px rgba(60, 64, 67, 0.3), 0px 1px 3px 1px rgba(60, 64, 67, 0.15);\n",
              "      fill: #174EA6;\n",
              "    }\n",
              "\n",
              "    .colab-df-buttons div {\n",
              "      margin-bottom: 4px;\n",
              "    }\n",
              "\n",
              "    [theme=dark] .colab-df-convert {\n",
              "      background-color: #3B4455;\n",
              "      fill: #D2E3FC;\n",
              "    }\n",
              "\n",
              "    [theme=dark] .colab-df-convert:hover {\n",
              "      background-color: #434B5C;\n",
              "      box-shadow: 0px 1px 3px 1px rgba(0, 0, 0, 0.15);\n",
              "      filter: drop-shadow(0px 1px 2px rgba(0, 0, 0, 0.3));\n",
              "      fill: #FFFFFF;\n",
              "    }\n",
              "  </style>\n",
              "\n",
              "    <script>\n",
              "      const buttonEl =\n",
              "        document.querySelector('#df-12972262-02e8-406b-8eb6-840d2c04a9c5 button.colab-df-convert');\n",
              "      buttonEl.style.display =\n",
              "        google.colab.kernel.accessAllowed ? 'block' : 'none';\n",
              "\n",
              "      async function convertToInteractive(key) {\n",
              "        const element = document.querySelector('#df-12972262-02e8-406b-8eb6-840d2c04a9c5');\n",
              "        const dataTable =\n",
              "          await google.colab.kernel.invokeFunction('convertToInteractive',\n",
              "                                                    [key], {});\n",
              "        if (!dataTable) return;\n",
              "\n",
              "        const docLinkHtml = 'Like what you see? Visit the ' +\n",
              "          '<a target=\"_blank\" href=https://colab.research.google.com/notebooks/data_table.ipynb>data table notebook</a>'\n",
              "          + ' to learn more about interactive tables.';\n",
              "        element.innerHTML = '';\n",
              "        dataTable['output_type'] = 'display_data';\n",
              "        await google.colab.output.renderOutput(dataTable, element);\n",
              "        const docLink = document.createElement('div');\n",
              "        docLink.innerHTML = docLinkHtml;\n",
              "        element.appendChild(docLink);\n",
              "      }\n",
              "    </script>\n",
              "  </div>\n",
              "\n",
              "\n",
              "<div id=\"df-8f741f53-eedd-4930-b21f-af11a2c8a85b\">\n",
              "  <button class=\"colab-df-quickchart\" onclick=\"quickchart('df-8f741f53-eedd-4930-b21f-af11a2c8a85b')\"\n",
              "            title=\"Suggest charts\"\n",
              "            style=\"display:none;\">\n",
              "\n",
              "<svg xmlns=\"http://www.w3.org/2000/svg\" height=\"24px\"viewBox=\"0 0 24 24\"\n",
              "     width=\"24px\">\n",
              "    <g>\n",
              "        <path d=\"M19 3H5c-1.1 0-2 .9-2 2v14c0 1.1.9 2 2 2h14c1.1 0 2-.9 2-2V5c0-1.1-.9-2-2-2zM9 17H7v-7h2v7zm4 0h-2V7h2v10zm4 0h-2v-4h2v4z\"/>\n",
              "    </g>\n",
              "</svg>\n",
              "  </button>\n",
              "\n",
              "<style>\n",
              "  .colab-df-quickchart {\n",
              "      --bg-color: #E8F0FE;\n",
              "      --fill-color: #1967D2;\n",
              "      --hover-bg-color: #E2EBFA;\n",
              "      --hover-fill-color: #174EA6;\n",
              "      --disabled-fill-color: #AAA;\n",
              "      --disabled-bg-color: #DDD;\n",
              "  }\n",
              "\n",
              "  [theme=dark] .colab-df-quickchart {\n",
              "      --bg-color: #3B4455;\n",
              "      --fill-color: #D2E3FC;\n",
              "      --hover-bg-color: #434B5C;\n",
              "      --hover-fill-color: #FFFFFF;\n",
              "      --disabled-bg-color: #3B4455;\n",
              "      --disabled-fill-color: #666;\n",
              "  }\n",
              "\n",
              "  .colab-df-quickchart {\n",
              "    background-color: var(--bg-color);\n",
              "    border: none;\n",
              "    border-radius: 50%;\n",
              "    cursor: pointer;\n",
              "    display: none;\n",
              "    fill: var(--fill-color);\n",
              "    height: 32px;\n",
              "    padding: 0;\n",
              "    width: 32px;\n",
              "  }\n",
              "\n",
              "  .colab-df-quickchart:hover {\n",
              "    background-color: var(--hover-bg-color);\n",
              "    box-shadow: 0 1px 2px rgba(60, 64, 67, 0.3), 0 1px 3px 1px rgba(60, 64, 67, 0.15);\n",
              "    fill: var(--button-hover-fill-color);\n",
              "  }\n",
              "\n",
              "  .colab-df-quickchart-complete:disabled,\n",
              "  .colab-df-quickchart-complete:disabled:hover {\n",
              "    background-color: var(--disabled-bg-color);\n",
              "    fill: var(--disabled-fill-color);\n",
              "    box-shadow: none;\n",
              "  }\n",
              "\n",
              "  .colab-df-spinner {\n",
              "    border: 2px solid var(--fill-color);\n",
              "    border-color: transparent;\n",
              "    border-bottom-color: var(--fill-color);\n",
              "    animation:\n",
              "      spin 1s steps(1) infinite;\n",
              "  }\n",
              "\n",
              "  @keyframes spin {\n",
              "    0% {\n",
              "      border-color: transparent;\n",
              "      border-bottom-color: var(--fill-color);\n",
              "      border-left-color: var(--fill-color);\n",
              "    }\n",
              "    20% {\n",
              "      border-color: transparent;\n",
              "      border-left-color: var(--fill-color);\n",
              "      border-top-color: var(--fill-color);\n",
              "    }\n",
              "    30% {\n",
              "      border-color: transparent;\n",
              "      border-left-color: var(--fill-color);\n",
              "      border-top-color: var(--fill-color);\n",
              "      border-right-color: var(--fill-color);\n",
              "    }\n",
              "    40% {\n",
              "      border-color: transparent;\n",
              "      border-right-color: var(--fill-color);\n",
              "      border-top-color: var(--fill-color);\n",
              "    }\n",
              "    60% {\n",
              "      border-color: transparent;\n",
              "      border-right-color: var(--fill-color);\n",
              "    }\n",
              "    80% {\n",
              "      border-color: transparent;\n",
              "      border-right-color: var(--fill-color);\n",
              "      border-bottom-color: var(--fill-color);\n",
              "    }\n",
              "    90% {\n",
              "      border-color: transparent;\n",
              "      border-bottom-color: var(--fill-color);\n",
              "    }\n",
              "  }\n",
              "</style>\n",
              "\n",
              "  <script>\n",
              "    async function quickchart(key) {\n",
              "      const quickchartButtonEl =\n",
              "        document.querySelector('#' + key + ' button');\n",
              "      quickchartButtonEl.disabled = true;  // To prevent multiple clicks.\n",
              "      quickchartButtonEl.classList.add('colab-df-spinner');\n",
              "      try {\n",
              "        const charts = await google.colab.kernel.invokeFunction(\n",
              "            'suggestCharts', [key], {});\n",
              "      } catch (error) {\n",
              "        console.error('Error during call to suggestCharts:', error);\n",
              "      }\n",
              "      quickchartButtonEl.classList.remove('colab-df-spinner');\n",
              "      quickchartButtonEl.classList.add('colab-df-quickchart-complete');\n",
              "    }\n",
              "    (() => {\n",
              "      let quickchartButtonEl =\n",
              "        document.querySelector('#df-8f741f53-eedd-4930-b21f-af11a2c8a85b button');\n",
              "      quickchartButtonEl.style.display =\n",
              "        google.colab.kernel.accessAllowed ? 'block' : 'none';\n",
              "    })();\n",
              "  </script>\n",
              "</div>\n",
              "    </div>\n",
              "  </div>\n"
            ],
            "application/vnd.google.colaboratory.intrinsic+json": {
              "type": "dataframe",
              "variable_name": "train_dataset_raw",
              "summary": "{\n  \"name\": \"train_dataset_raw\",\n  \"rows\": 8375,\n  \"fields\": [\n    {\n      \"column\": \"par_id\",\n      \"properties\": {\n        \"dtype\": \"string\",\n        \"num_unique_values\": 8375,\n        \"samples\": [\n          \"1816\",\n          \"9762\",\n          \"3831\"\n        ],\n        \"semantic_type\": \"\",\n        \"description\": \"\"\n      }\n    },\n    {\n      \"column\": \"text\",\n      \"properties\": {\n        \"dtype\": \"string\",\n        \"num_unique_values\": 8375,\n        \"samples\": [\n          \"women | 8 out of 10 Nigerian women , girls are in Italy for sex -- Kaigama\",\n          \"vulnerable | \\\"Cosatu deputy president Zingiswa Losi will join his counterpart at the National Union of Metalworkers of SA , Christine Olivier , and representatives from the ANC Women 's League and Sadtu to \\\"\\\" dispense sanitary towels to 345 vulnerable and poor girl pupils \\\"\\\" at Tyongwana Senior Primary School outside Port St Johns in the Eastern Cape .\\\"\",\n          \"disabled | \\\"\\\"\\\" In the past , Malaysia could afford for disabled people not to reach their full potential because there was abundant labour , \\\"\\\" Amjad says .\\\"\"\n        ],\n        \"semantic_type\": \"\",\n        \"description\": \"\"\n      }\n    },\n    {\n      \"column\": \"label\",\n      \"properties\": {\n        \"dtype\": \"number\",\n        \"std\": 0,\n        \"min\": 0,\n        \"max\": 1,\n        \"num_unique_values\": 2,\n        \"samples\": [\n          1,\n          0\n        ],\n        \"semantic_type\": \"\",\n        \"description\": \"\"\n      }\n    }\n  ]\n}"
            }
          },
          "metadata": {},
          "execution_count": 8
        }
      ],
      "source": [
        "train_dataset_raw.head()"
      ]
    },
    {
      "cell_type": "code",
      "execution_count": 9,
      "metadata": {
        "colab": {
          "base_uri": "https://localhost:8080/"
        },
        "id": "c3Yq31l_41G4",
        "outputId": "13e48bde-d6c4-439d-dceb-bee4d79c1940"
      },
      "outputs": [
        {
          "output_type": "stream",
          "name": "stderr",
          "text": [
            "/usr/local/lib/python3.10/dist-packages/huggingface_hub/utils/_token.py:88: UserWarning: \n",
            "The secret `HF_TOKEN` does not exist in your Colab secrets.\n",
            "To authenticate with the Hugging Face Hub, create a token in your settings tab (https://huggingface.co/settings/tokens), set it as secret in your Google Colab and restart your session.\n",
            "You will be able to reuse this secret in all of your notebooks.\n",
            "Please note that authentication is recommended but still optional to access public models or datasets.\n",
            "  warnings.warn(\n"
          ]
        }
      ],
      "source": [
        "# Load the DeBERTa tokenizer\n",
        "tokenizer = DebertaTokenizer.from_pretrained(\"microsoft/deberta-base\")\n",
        "\n",
        "train_text = train_dataset_raw.text.values\n",
        "test_text = test_dataset_raw.text.values\n",
        "\n",
        "max_length = 192\n",
        "\n",
        "encoding_train = tokenizer(train_text.tolist(), return_tensors='pt', padding=\"max_length\", truncation=True, max_length=max_length)\n",
        "encoding_test = tokenizer(test_text.tolist(), return_tensors='pt', padding=\"max_length\", truncation=True, max_length=max_length)\n",
        "\n",
        "encoding_train['label'] = torch.tensor([[0,1] if x == 1 else [1,0] for x in train_dataset_raw['label'].tolist()], dtype=torch.float32)\n",
        "encoding_test['label'] = torch.tensor([[0,1] if x == 1 else [1,0] for x in test_dataset_raw['label'].tolist()], dtype=torch.float32)"
      ]
    },
    {
      "cell_type": "code",
      "execution_count": 10,
      "metadata": {
        "id": "4LIBs51141G4"
      },
      "outputs": [],
      "source": [
        "# Create an instance of the CustomDataset class\n",
        "train_dataset = CustomDataset(encoding_train)\n",
        "test_dataset = CustomDataset(encoding_test)"
      ]
    },
    {
      "cell_type": "code",
      "execution_count": 11,
      "metadata": {
        "colab": {
          "base_uri": "https://localhost:8080/"
        },
        "id": "ZuzHq8g_41G5",
        "outputId": "e4687b9e-c42e-470e-d0c9-3db610046f10"
      },
      "outputs": [
        {
          "output_type": "stream",
          "name": "stderr",
          "text": [
            "/usr/local/lib/python3.10/dist-packages/torch/_utils.py:831: UserWarning: TypedStorage is deprecated. It will be removed in the future and UntypedStorage will be the only storage class. This should only matter to you if you are using storages directly.  To access UntypedStorage directly, use tensor.untyped_storage() instead of tensor.storage()\n",
            "  return self.fget.__get__(instance, owner)()\n",
            "Some weights of DebertaForSequenceClassification were not initialized from the model checkpoint at microsoft/deberta-base and are newly initialized: ['classifier.bias', 'classifier.weight', 'pooler.dense.bias', 'pooler.dense.weight']\n",
            "You should probably TRAIN this model on a down-stream task to be able to use it for predictions and inference.\n"
          ]
        }
      ],
      "source": [
        "model = DebertaForSequenceClassification.from_pretrained(\"microsoft/deberta-base\", num_labels=2)\n",
        "model = model.to(device)\n",
        "\n",
        "epochs = 8\n",
        "lr = 1e-5\n",
        "batch_size = 32\n",
        "\n",
        "def compute_metrics(eval_pred):\n",
        "    logits, labels = eval_pred\n",
        "    predictions = np.argmax(logits, axis=-1)\n",
        "    labels = np.argmax(labels, axis=-1)\n",
        "    f1 = f1_score(labels, predictions, average='binary')\n",
        "    return {'f1': f1}\n",
        "\n",
        "trainingargs = TrainingArguments(\n",
        "    learning_rate=lr,\n",
        "    weight_decay=1e-2,\n",
        "    output_dir='/content/training_results',\n",
        "    overwrite_output_dir=True,\n",
        "    num_train_epochs=epochs,\n",
        "    per_device_train_batch_size=batch_size,\n",
        "    per_device_eval_batch_size=batch_size,\n",
        "    evaluation_strategy=\"epoch\",\n",
        "    report_to=None,\n",
        "    metric_for_best_model=\"f1\",\n",
        "    save_strategy='epoch',\n",
        "    load_best_model_at_end=True,\n",
        "    seed=random_seed,\n",
        "    optim='adamw_torch',\n",
        ")\n",
        "\n",
        "trainer = Trainer(\n",
        "    model=model,\n",
        "    args=trainingargs,\n",
        "    train_dataset=train_dataset,\n",
        "    eval_dataset=test_dataset,\n",
        "    compute_metrics=compute_metrics,\n",
        ")"
      ]
    },
    {
      "cell_type": "code",
      "execution_count": 12,
      "metadata": {
        "colab": {
          "base_uri": "https://localhost:8080/",
          "height": 587
        },
        "id": "NSeO2DEh41G5",
        "outputId": "a71126b5-8d60-4f02-f7ca-f029a0a5c08f"
      },
      "outputs": [
        {
          "output_type": "display_data",
          "data": {
            "text/plain": [
              "<IPython.core.display.HTML object>"
            ],
            "text/html": [
              "\n",
              "    <div>\n",
              "      \n",
              "      <progress value='2096' max='2096' style='width:300px; height:20px; vertical-align: middle;'></progress>\n",
              "      [2096/2096 52:41, Epoch 8/8]\n",
              "    </div>\n",
              "    <table border=\"1\" class=\"dataframe\">\n",
              "  <thead>\n",
              " <tr style=\"text-align: left;\">\n",
              "      <th>Epoch</th>\n",
              "      <th>Training Loss</th>\n",
              "      <th>Validation Loss</th>\n",
              "      <th>F1</th>\n",
              "    </tr>\n",
              "  </thead>\n",
              "  <tbody>\n",
              "    <tr>\n",
              "      <td>1</td>\n",
              "      <td>No log</td>\n",
              "      <td>0.208391</td>\n",
              "      <td>0.495726</td>\n",
              "    </tr>\n",
              "    <tr>\n",
              "      <td>2</td>\n",
              "      <td>0.240100</td>\n",
              "      <td>0.191128</td>\n",
              "      <td>0.502994</td>\n",
              "    </tr>\n",
              "    <tr>\n",
              "      <td>3</td>\n",
              "      <td>0.240100</td>\n",
              "      <td>0.231470</td>\n",
              "      <td>0.430108</td>\n",
              "    </tr>\n",
              "    <tr>\n",
              "      <td>4</td>\n",
              "      <td>0.124700</td>\n",
              "      <td>0.231382</td>\n",
              "      <td>0.631325</td>\n",
              "    </tr>\n",
              "    <tr>\n",
              "      <td>5</td>\n",
              "      <td>0.124700</td>\n",
              "      <td>0.311043</td>\n",
              "      <td>0.585227</td>\n",
              "    </tr>\n",
              "    <tr>\n",
              "      <td>6</td>\n",
              "      <td>0.051700</td>\n",
              "      <td>0.351695</td>\n",
              "      <td>0.567335</td>\n",
              "    </tr>\n",
              "    <tr>\n",
              "      <td>7</td>\n",
              "      <td>0.051700</td>\n",
              "      <td>0.364957</td>\n",
              "      <td>0.618557</td>\n",
              "    </tr>\n",
              "    <tr>\n",
              "      <td>8</td>\n",
              "      <td>0.027600</td>\n",
              "      <td>0.375086</td>\n",
              "      <td>0.621762</td>\n",
              "    </tr>\n",
              "  </tbody>\n",
              "</table><p>"
            ]
          },
          "metadata": {}
        },
        {
          "output_type": "stream",
          "name": "stderr",
          "text": [
            "Checkpoint destination directory /content/training_results/checkpoint-262 already exists and is non-empty. Saving will proceed but saved results may be invalid.\n",
            "Checkpoint destination directory /content/training_results/checkpoint-524 already exists and is non-empty. Saving will proceed but saved results may be invalid.\n"
          ]
        },
        {
          "output_type": "display_data",
          "data": {
            "text/plain": [
              "<IPython.core.display.HTML object>"
            ],
            "text/html": []
          },
          "metadata": {}
        },
        {
          "output_type": "execute_result",
          "data": {
            "text/plain": [
              "PredictionOutput(predictions=array([[ 1.558032 , -1.3788724],\n",
              "       [-1.8434662,  2.0589075],\n",
              "       [ 3.0188162, -2.8229675],\n",
              "       ...,\n",
              "       [ 2.130239 , -2.0509171],\n",
              "       [ 1.3485687, -1.0937474],\n",
              "       [ 2.8949938, -2.7066727]], dtype=float32), label_ids=array([[0., 1.],\n",
              "       [0., 1.],\n",
              "       [0., 1.],\n",
              "       ...,\n",
              "       [1., 0.],\n",
              "       [1., 0.],\n",
              "       [1., 0.]], dtype=float32), metrics={'test_loss': 0.23138169944286346, 'test_f1': 0.6313253012048193, 'test_runtime': 29.8062, 'test_samples_per_second': 70.254, 'test_steps_per_second': 2.214})"
            ]
          },
          "metadata": {},
          "execution_count": 12
        }
      ],
      "source": [
        "trainer.train()\n",
        "# Here the best model has been already loaded\n",
        "trainer.predict(test_dataset)"
      ]
    },
    {
      "cell_type": "code",
      "execution_count": 13,
      "metadata": {
        "id": "awovGXYxwScv"
      },
      "outputs": [],
      "source": [
        "trainer.save_model('./results/final_model')"
      ]
    },
    {
      "cell_type": "code",
      "source": [
        "# helper function to save predictions to an output file\n",
        "def labels2file(p, outf_path):\n",
        "    with open(outf_path,'w') as outf:\n",
        "        for pi in p:\n",
        "            outf.write(str(pi)+'\\n')"
      ],
      "metadata": {
        "id": "jr8kY2IzKsdd"
      },
      "execution_count": 24,
      "outputs": []
    },
    {
      "cell_type": "code",
      "source": [
        "preds_test = trainer.predict(test_dataset)"
      ],
      "metadata": {
        "colab": {
          "base_uri": "https://localhost:8080/",
          "height": 17
        },
        "id": "2C8LPbsFKs8s",
        "outputId": "e26e1fbf-d30e-4360-8584-33982858f6c7"
      },
      "execution_count": 18,
      "outputs": [
        {
          "output_type": "display_data",
          "data": {
            "text/plain": [
              "<IPython.core.display.HTML object>"
            ],
            "text/html": []
          },
          "metadata": {}
        }
      ]
    },
    {
      "cell_type": "code",
      "source": [
        "preds_test.predictions.argmax(axis=1)"
      ],
      "metadata": {
        "colab": {
          "base_uri": "https://localhost:8080/"
        },
        "id": "I1Jrh_4lPCZD",
        "outputId": "c1d17238-2df0-466b-ead0-c49ad18fadce"
      },
      "execution_count": 22,
      "outputs": [
        {
          "output_type": "execute_result",
          "data": {
            "text/plain": [
              "array([0, 1, 0, ..., 0, 0, 0])"
            ]
          },
          "metadata": {},
          "execution_count": 22
        }
      ]
    },
    {
      "cell_type": "code",
      "source": [
        "labels2file(preds_test.predictions.argmax(axis=1), './predictions/dev.txt')"
      ],
      "metadata": {
        "id": "t-O7ZAzZPBXY"
      },
      "execution_count": 25,
      "outputs": []
    },
    {
      "cell_type": "code",
      "source": [
        "# Load official test set\n",
        "\n",
        "rows=[]\n",
        "with open('./data/task4_test.tsv') as f:\n",
        "    for line in f:\n",
        "        t=line.strip().split('\\t')\n",
        "        rows.append(t)\n",
        "official_test = pd.DataFrame(rows, columns=\"par_id art_id keyword country text\".split())\n",
        "\n",
        "\n",
        "official_test['label'] = [0] * len(official_test)\n",
        "official_test['par_id'] = [i for i in range(len(official_test))]\n",
        "\n",
        "official_test_set = pd.DataFrame(official_test)\n",
        "official_test_ds = preprocess_data(official_test_set)\n",
        "\n",
        "rows_official_test = get_rows(official_test_ds)\n",
        "test_official_dataframe_raw = pd.DataFrame(rows_official_test)"
      ],
      "metadata": {
        "id": "qp9X73RCMCmj"
      },
      "execution_count": 100,
      "outputs": []
    },
    {
      "cell_type": "code",
      "source": [
        "official_test_text = test_official_dataframe_raw.text.values\n",
        "encoding_official_test = tokenizer(official_test_text.tolist(), return_tensors='pt', padding=\"max_length\", truncation=True, max_length=max_length)"
      ],
      "metadata": {
        "id": "_TsWpouRQoAp"
      },
      "execution_count": 101,
      "outputs": []
    },
    {
      "cell_type": "code",
      "source": [
        "encoding_official_test['label'] = torch.tensor([[0,1] if x == 1 else [1,0] for x in test_official_dataframe_raw['label'].tolist()], dtype=torch.float32)\n",
        "official_test_dataset = CustomDataset(encoding_official_test)"
      ],
      "metadata": {
        "id": "aMuI2qBjQ9Cx"
      },
      "execution_count": 103,
      "outputs": []
    },
    {
      "cell_type": "code",
      "source": [
        "preds_official_test = trainer.predict(official_test_dataset)"
      ],
      "metadata": {
        "colab": {
          "base_uri": "https://localhost:8080/",
          "height": 17
        },
        "id": "jt6aVwvfM4rG",
        "outputId": "81d18d9a-aa37-42d1-f690-d738f230f3c8"
      },
      "execution_count": 108,
      "outputs": [
        {
          "output_type": "display_data",
          "data": {
            "text/plain": [
              "<IPython.core.display.HTML object>"
            ],
            "text/html": []
          },
          "metadata": {}
        }
      ]
    },
    {
      "cell_type": "code",
      "source": [
        "labels2file(preds_official_test.predictions.argmax(axis=1), './predictions/test.txt')"
      ],
      "metadata": {
        "id": "WZH-srJRRQbs"
      },
      "execution_count": 109,
      "outputs": []
    }
  ],
  "metadata": {
    "accelerator": "GPU",
    "colab": {
      "gpuType": "T4",
      "provenance": []
    },
    "kernelspec": {
      "display_name": "Python 3",
      "name": "python3"
    },
    "language_info": {
      "codemirror_mode": {
        "name": "ipython",
        "version": 3
      },
      "file_extension": ".py",
      "mimetype": "text/x-python",
      "name": "python",
      "nbconvert_exporter": "python",
      "pygments_lexer": "ipython3",
      "version": "3.10.12"
    }
  },
  "nbformat": 4,
  "nbformat_minor": 0
}