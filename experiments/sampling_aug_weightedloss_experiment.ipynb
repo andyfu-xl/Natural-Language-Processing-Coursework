{
  "cells": [
    {
      "cell_type": "code",
      "execution_count": 2,
      "metadata": {
        "colab": {
          "base_uri": "https://localhost:8080/"
        },
        "id": "f97j1SUzBBNF",
        "outputId": "863113f6-28f6-46be-dbd9-ba134e5be090"
      },
      "outputs": [
        {
          "name": "stdout",
          "output_type": "stream",
          "text": [
            "Sun Mar  3 18:51:54 2024       \n",
            "+---------------------------------------------------------------------------------------+\n",
            "| NVIDIA-SMI 535.146.02             Driver Version: 535.146.02   CUDA Version: 12.2     |\n",
            "|-----------------------------------------+----------------------+----------------------+\n",
            "| GPU  Name                 Persistence-M | Bus-Id        Disp.A | Volatile Uncorr. ECC |\n",
            "| Fan  Temp   Perf          Pwr:Usage/Cap |         Memory-Usage | GPU-Util  Compute M. |\n",
            "|                                         |                      |               MIG M. |\n",
            "|=========================================+======================+======================|\n",
            "|   0  NVIDIA GeForce RTX 4070 ...    Off | 00000000:01:00.0 Off |                  N/A |\n",
            "| N/A   52C    P8               4W /  80W |     14MiB /  8188MiB |      0%      Default |\n",
            "|                                         |                      |                  N/A |\n",
            "+-----------------------------------------+----------------------+----------------------+\n",
            "                                                                                         \n",
            "+---------------------------------------------------------------------------------------+\n",
            "| Processes:                                                                            |\n",
            "|  GPU   GI   CI        PID   Type   Process name                            GPU Memory |\n",
            "|        ID   ID                                                             Usage      |\n",
            "|=======================================================================================|\n",
            "|    0   N/A  N/A      1623      G   /usr/lib/xorg/Xorg                            4MiB |\n",
            "|    0   N/A  N/A      3089      G   /usr/lib/xorg/Xorg                            4MiB |\n",
            "+---------------------------------------------------------------------------------------+\n"
          ]
        }
      ],
      "source": [
        "!nvidia-smi"
      ]
    },
    {
      "cell_type": "markdown",
      "metadata": {
        "id": "FlaiJku5qy-o"
      },
      "source": [
        "# Imports"
      ]
    },
    {
      "cell_type": "code",
      "execution_count": 3,
      "metadata": {
        "colab": {
          "base_uri": "https://localhost:8080/"
        },
        "id": "28KEPUrDSSzZ",
        "outputId": "3d8ef5f6-b151-487b-a9ff-2f21d43f3761"
      },
      "outputs": [],
      "source": [
        "!pip install -q accelerate -U\n",
        "!pip install -q simpletransformers"
      ]
    },
    {
      "cell_type": "code",
      "execution_count": 4,
      "metadata": {
        "colab": {
          "base_uri": "https://localhost:8080/",
          "height": 17
        },
        "id": "UWn2PDmvWcfx",
        "outputId": "362bb811-ebf0-4b64-dffa-9e312413c973"
      },
      "outputs": [
        {
          "name": "stdout",
          "output_type": "stream",
          "text": [
            "/home/andyfu/Desktop/nlp-coursework-1\n"
          ]
        },
        {
          "name": "stderr",
          "output_type": "stream",
          "text": [
            "/home/andyfu/miniconda3/envs/nlp/lib/python3.10/site-packages/IPython/core/magics/osm.py:417: UserWarning: This is now an optional IPython functionality, setting dhist requires you to install the `pickleshare` library.\n",
            "  self.shell.db['dhist'] = compress_dhist(dhist)[-100:]\n"
          ]
        }
      ],
      "source": [
        "cd .."
      ]
    },
    {
      "cell_type": "code",
      "execution_count": 5,
      "metadata": {
        "id": "J7EDTXVMSRrK"
      },
      "outputs": [
        {
          "name": "stderr",
          "output_type": "stream",
          "text": [
            "2024-03-03 18:52:01.197399: I tensorflow/core/util/port.cc:113] oneDNN custom operations are on. You may see slightly different numerical results due to floating-point round-off errors from different computation orders. To turn them off, set the environment variable `TF_ENABLE_ONEDNN_OPTS=0`.\n",
            "2024-03-03 18:52:01.219446: E external/local_xla/xla/stream_executor/cuda/cuda_dnn.cc:9261] Unable to register cuDNN factory: Attempting to register factory for plugin cuDNN when one has already been registered\n",
            "2024-03-03 18:52:01.219477: E external/local_xla/xla/stream_executor/cuda/cuda_fft.cc:607] Unable to register cuFFT factory: Attempting to register factory for plugin cuFFT when one has already been registered\n",
            "2024-03-03 18:52:01.220055: E external/local_xla/xla/stream_executor/cuda/cuda_blas.cc:1515] Unable to register cuBLAS factory: Attempting to register factory for plugin cuBLAS when one has already been registered\n",
            "2024-03-03 18:52:01.224113: I tensorflow/core/platform/cpu_feature_guard.cc:182] This TensorFlow binary is optimized to use available CPU instructions in performance-critical operations.\n",
            "To enable the following instructions: AVX2 AVX_VNNI FMA, in other operations, rebuild TensorFlow with the appropriate compiler flags.\n",
            "2024-03-03 18:52:01.687486: W tensorflow/compiler/tf2tensorrt/utils/py_utils.cc:38] TF-TRT Warning: Could not find TensorRT\n",
            "[nltk_data] Downloading package punkt to /home/andyfu/nltk_data...\n",
            "[nltk_data]   Package punkt is already up-to-date!\n",
            "[nltk_data] Downloading package wordnet to /home/andyfu/nltk_data...\n",
            "[nltk_data]   Package wordnet is already up-to-date!\n"
          ]
        },
        {
          "data": {
            "text/plain": [
              "True"
            ]
          },
          "execution_count": 5,
          "metadata": {},
          "output_type": "execute_result"
        }
      ],
      "source": [
        "from simpletransformers.classification import ClassificationModel, ClassificationArgs, MultiLabelClassificationModel, MultiLabelClassificationArgs\n",
        "from urllib import request\n",
        "import pandas as pd\n",
        "import logging\n",
        "import torch\n",
        "from collections import Counter\n",
        "from sklearn.metrics import f1_score, accuracy_score, precision_score, recall_score, precision_recall_fscore_support\n",
        "from sklearn.model_selection import train_test_split\n",
        "from ast import literal_eval\n",
        "import numpy as np\n",
        "from dont_patronize_me import DontPatronizeMe\n",
        "from sklearn.model_selection import train_test_split\n",
        "from torch.utils.data import Dataset, DataLoader\n",
        "import pandas as pd\n",
        "from transformers import DebertaTokenizer, DebertaForSequenceClassification\n",
        "from transformers import Trainer, TrainingArguments\n",
        "import torch\n",
        "import torch.functional as F\n",
        "import tqdm\n",
        "import nltk\n",
        "from nltk.corpus import wordnet\n",
        "from torch import nn\n",
        "nltk.download(\"punkt\")\n",
        "nltk.download(\"wordnet\")"
      ]
    },
    {
      "cell_type": "code",
      "execution_count": 5,
      "metadata": {
        "id": "0E_rTBE3-5XZ"
      },
      "outputs": [],
      "source": [
        "random_seed = 42"
      ]
    },
    {
      "cell_type": "code",
      "execution_count": 6,
      "metadata": {
        "colab": {
          "base_uri": "https://localhost:8080/"
        },
        "id": "JmE5ixvBSRrN",
        "outputId": "c03d2309-1ac8-4314-a16e-d67510ff0219"
      },
      "outputs": [
        {
          "name": "stdout",
          "output_type": "stream",
          "text": [
            "Cuda available? True\n"
          ]
        }
      ],
      "source": [
        "# prepare logger\n",
        "logging.basicConfig(level=logging.INFO)\n",
        "\n",
        "transformers_logger = logging.getLogger(\"transformers\")\n",
        "transformers_logger.setLevel(logging.WARNING)\n",
        "\n",
        "# check gpu\n",
        "cuda_available = torch.cuda.is_available()\n",
        "\n",
        "device = 'cuda' if cuda_available else 'cpu'\n",
        "\n",
        "print('Cuda available?', cuda_available)"
      ]
    },
    {
      "cell_type": "markdown",
      "metadata": {
        "id": "YtXqISh5q1kG"
      },
      "source": [
        "# Data loading"
      ]
    },
    {
      "cell_type": "code",
      "execution_count": 7,
      "metadata": {
        "colab": {
          "base_uri": "https://localhost:8080/"
        },
        "id": "qimJbsD1SRrO",
        "outputId": "06b24e05-25cf-4daa-fe65-d09f5b145405"
      },
      "outputs": [
        {
          "name": "stdout",
          "output_type": "stream",
          "text": [
            "6700 1675 2094\n"
          ]
        }
      ],
      "source": [
        "def load_data(train_size=0.8, random_state=random_seed):\n",
        "    dpm = DontPatronizeMe('.', '.')\n",
        "    dpm.load_task1()\n",
        "    trids = pd.read_csv('data/train_semeval_parids-labels.csv')\n",
        "    teids = pd.read_csv('data/dev_semeval_parids-labels.csv')\n",
        "    trids.par_id = trids.par_id.astype(str)\n",
        "    teids.par_id = teids.par_id.astype(str)\n",
        "    data = dpm.train_task1_df\n",
        "\n",
        "    rows_train_val = [] # will contain par_id, label and text\n",
        "    for idx in range(len(trids)):\n",
        "        parid = trids.par_id[idx]\n",
        "        # select row from original dataset to retrieve `text` and binary label\n",
        "        instance = data.loc[data.par_id == parid]\n",
        "        keyword = instance.keyword.values[0]\n",
        "        text = instance.text.values[0]\n",
        "        label = instance.label.values[0]\n",
        "        rows_train_val.append({\n",
        "            'text':text,\n",
        "            'label':label\n",
        "        })\n",
        "\n",
        "    rows_train, rows_val = train_test_split(rows_train_val, train_size=train_size, random_state=random_state)\n",
        "\n",
        "    rows_test = [] # will contain par_id, label and text\n",
        "    for idx in range(len(teids)):\n",
        "        parid = teids.par_id[idx]\n",
        "        #print(parid)\n",
        "        # select row from original dataset\n",
        "        instance = data.loc[data.par_id == parid]\n",
        "        keyword = instance.keyword.values[0]\n",
        "        text = instance.text.values[0]\n",
        "        label = instance.label.values[0]\n",
        "        rows_test.append({\n",
        "            'text':text,\n",
        "            'label':label\n",
        "        })\n",
        "    print(len(rows_train), len(rows_val), len(rows_test))\n",
        "\n",
        "    return pd.DataFrame(rows_train), pd.DataFrame(rows_val), pd.DataFrame(rows_test)\n",
        "\n",
        "train_dataset_raw, eval_dataset_raw, test_dataset_raw = load_data(train_size=0.8)"
      ]
    },
    {
      "cell_type": "code",
      "execution_count": 8,
      "metadata": {},
      "outputs": [],
      "source": [
        "train_dataset_raw = pd.read_csv('data/train_set.csv')\n",
        "eval_dataset_raw = pd.read_csv('data/eval_set.csv')"
      ]
    },
    {
      "cell_type": "markdown",
      "metadata": {},
      "source": [
        "**Up-sample and Down-sample**"
      ]
    },
    {
      "cell_type": "code",
      "execution_count": 9,
      "metadata": {},
      "outputs": [],
      "source": [
        "# train_dataset_positive = train_dataset_raw[train_dataset_raw.label == 1]\n",
        "# train_dataset_raw = pd.concat([train_dataset_raw, train_dataset_positive])"
      ]
    },
    {
      "cell_type": "code",
      "execution_count": 10,
      "metadata": {},
      "outputs": [],
      "source": [
        "# train_dataset_raw_negative = train_dataset_raw[train_dataset_raw.label == 0].sample(frac=0.7)\n",
        "# train_dataset_raw_positive = train_dataset_raw[train_dataset_raw.label == 1]\n",
        "# train_dataset_raw = pd.concat([train_dataset_raw_negative, train_dataset_raw_positive])\n",
        "# train_dataset_raw"
      ]
    },
    {
      "cell_type": "markdown",
      "metadata": {},
      "source": [
        "**Back Translation**"
      ]
    },
    {
      "cell_type": "code",
      "execution_count": 11,
      "metadata": {},
      "outputs": [],
      "source": [
        "# from googletrans import Translator\n",
        "# def backtranslate(text, target_language='zh-cn'):\n",
        "#     translator = Translator()\n",
        "    \n",
        "#     # Translate to target language\n",
        "#     translated = translator.translate(text, dest=target_language).text\n",
        "    \n",
        "#     # Translate back to original language\n",
        "#     back_translated = translator.translate(translated, dest='en').text\n",
        "    \n",
        "#     return back_translated\n",
        "\n",
        "# positives = train_dataset_raw[train_dataset_raw.label == 1]\n",
        "# backtranslated = []\n",
        "# for idx, row in positives.iterrows():\n",
        "#     # if idx < 121:\n",
        "#     #     continue\n",
        "#     print(idx)\n",
        "#     backtranslated.append(backtranslate(row.text))\n",
        "\n",
        "# # add backtranslated positives to train dataset\n",
        "# backtranslated = pd.DataFrame(backtranslated, columns=['text'])\n",
        "# backtranslated['label'] = 1\n",
        "# train_dataset_raw = pd.concat([train_dataset_raw, backtranslated])\n",
        "\n",
        "# train_dataset_raw = pd.read_csv('data/back_trans_train.csv')\n",
        "# eval_dataset_raw = pd.read_csv('data/back_trans_val.csv')"
      ]
    },
    {
      "cell_type": "markdown",
      "metadata": {},
      "source": [
        "**Replacement**"
      ]
    },
    {
      "cell_type": "code",
      "execution_count": 12,
      "metadata": {},
      "outputs": [],
      "source": [
        "# def replace_sentence_with_synonyms(sentence):\n",
        "#     words = nltk.word_tokenize(sentence)\n",
        "#     upper_case = ['A', 'B', 'C', 'D', 'E', 'F', 'G', 'H', 'I', 'J', 'K', 'L', 'M', 'N', 'O', 'P', 'Q', 'R', 'S', 'T', 'U', 'V', 'W', 'X', 'Y', 'Z']\n",
        "#     synonyms = []\n",
        "#     for word in words:\n",
        "#         # if word contains capital letters, skip\n",
        "#         if any([c in upper_case for c in word]):\n",
        "#             synonyms.append(word)\n",
        "#             continue\n",
        "#         if np.random.rand() > 0.9 or len(word) <= 3:\n",
        "#             synonyms.append(word)\n",
        "#             continue\n",
        "#         syns = wordnet.synsets(word)\n",
        "#         if len(syns) > 0:\n",
        "#             synonyms.append(syns[0].lemmas()[0].name())\n",
        "#         else:\n",
        "#             synonyms.append(word)\n",
        "#     # convert back to sentence\n",
        "#     sentence = ' '.join(synonyms)\n",
        "#     return sentence\n",
        "\n",
        "# # get a sample from the training dataset\n",
        "# train_dataset_raw_positive = train_dataset_raw[train_dataset_raw.label == 1]\n",
        "# sample = train_dataset_raw_positive.sample(1)\n",
        "# print(sample.text.values[0])\n",
        "# print(replace_sentence_with_synonyms(sample.text.values[0]))"
      ]
    },
    {
      "cell_type": "code",
      "execution_count": 13,
      "metadata": {},
      "outputs": [],
      "source": [
        "# for idx, row in train_dataset_raw.iterrows():\n",
        "#     train_dataset_raw.at[idx, 'text'] = replace_sentence_with_synonyms(row.text)\n",
        "# train_dataset_raw = pd.concat([train_dataset_raw, train_dataset_raw_positive])"
      ]
    },
    {
      "cell_type": "markdown",
      "metadata": {},
      "source": [
        "**Contextual embedding replacement**"
      ]
    },
    {
      "cell_type": "code",
      "execution_count": 14,
      "metadata": {},
      "outputs": [],
      "source": [
        "import gensim\n",
        "import transformers\n",
        "import nlpaug\n",
        "import nlpaug.augmenter.char as nac\n",
        "import nlpaug.augmenter.word as naw\n",
        "import nlpaug.augmenter.sentence as nas\n",
        "import nlpaug.flow as nafc\n",
        "from nlpaug.util import Action\n",
        "from nlpaug.util.file.download import DownloadUtil\n",
        "# initialising the augmentor with \"Glove\"\n",
        "caug = naw.ContextualWordEmbsAug(\n",
        "        # option to choose from is \"word2vec\", \"glove\" or \"fasttext\"\n",
        "        model_path='distilroberta-base',\n",
        "\n",
        "        # options available are insert or substitute\n",
        "        action='substitute')"
      ]
    },
    {
      "cell_type": "code",
      "execution_count": 39,
      "metadata": {},
      "outputs": [
        {
          "name": "stdout",
          "output_type": "stream",
          "text": [
            "                                                   text  label\n",
            "0     Critics have even taken to dobbing in Katrina ...      0\n",
            "1     Alexis and her family decided to donate more t...      0\n",
            "2     [Mr Porter. do you think parliament should hea...      1\n",
            "3     \"\"\" This only serves to highlight the importan...      0\n",
            "4     \"\"\" I was nervous , but life has taught me ove...      0\n",
            "...                                                 ...    ...\n",
            "6645  President Uhuru Kenyatta and his deputy Willia...      1\n",
            "6657  \"Interacting with media , Adityanath said , \"\"...      1\n",
            "6674  \"\"\" The United States respects and admires you...      1\n",
            "6688  \"An organisation representing Kashmiri Pandits...      1\n",
            "6693  I have been interested and passionate about wh...      1\n",
            "\n",
            "[7327 rows x 2 columns]\n"
          ]
        }
      ],
      "source": [
        "train_dataset_raw_positive = train_dataset_raw[train_dataset_raw.label == 1]\n",
        "\n",
        "for idx, row in train_dataset_raw_positive.iterrows():\n",
        "    train_dataset_raw.at[idx, 'text'] = caug.augment(row.text)\n",
        "\n",
        "train_dataset_raw = pd.concat([train_dataset_raw, train_dataset_raw_positive])\n",
        "print(train_dataset_raw)"
      ]
    },
    {
      "cell_type": "code",
      "execution_count": 42,
      "metadata": {},
      "outputs": [],
      "source": [
        "# save train_dataset_raw\n",
        "train_dataset_raw.to_csv('data/augmented_train.csv', index=False)\n",
        "train_dataset_raw = pd.read_csv('data/augmented_train.csv')"
      ]
    },
    {
      "cell_type": "markdown",
      "metadata": {
        "id": "lC4Qvf50rJ65"
      },
      "source": [
        "# Encode data into a Dataset"
      ]
    },
    {
      "cell_type": "code",
      "execution_count": 43,
      "metadata": {
        "colab": {
          "base_uri": "https://localhost:8080/",
          "height": 249,
          "referenced_widgets": [
            "98d4eb61d2ea4f319c4269e51a5883e4",
            "4d67b8c63b754b84abfe6d2844a1a6ba",
            "bff7202b9ca1402d9ea5992a15ddca95",
            "fba5045bc23b4ba5984382e1e63024d5",
            "4d0202851bc944f3ae637cd6feb6e731",
            "14f7e814f85044d8859e83a6eda2be0a",
            "f37bed816fd243b98857b54756f9aac5",
            "511ad99443da4396b877ee3a7ad364a7",
            "6a77123106354f2eb12277910af5c928",
            "2c927e14010a489fb7a8cd0a26c82541",
            "c8cb6d0c27ff412792bb7d0f6248b39c",
            "a4c003ba02da4d52bf09eb6462c08ccd",
            "d64ac9a2bd4c473f96f7ce5ffc34ce6c",
            "6cd71eb12fd646ab8e79da062b88d38d",
            "e59aa4309e2d4be78cc33dbf134c7e05",
            "92dbb7e5bc3f43b79e032734d15be708",
            "b3b98b6828dd429eb48153dec9be9a0b",
            "4b8edbdbadbc419b95b6efa557b8d2fe",
            "b61ba4ba8696406998733d520b396436",
            "bef1c7691c5240ed922b902ef6105f41",
            "31c302ac2c524290a71a3809664a65b6",
            "635045ff2ff645639b1ebb72f6a1c7d2",
            "aaa63a8f547845adbcbd0ba5b8d1e58b",
            "817e83a9d72d4a16bf303e24ef7edb29",
            "bda8b0b7856e495fa0569d660dfbd45e",
            "868abfadffea4baf8016644f6133f2bf",
            "7d92b22a2acb4386826669d7f472e91a",
            "4db32d6530c64d28aa7eee8b6a9d9a50",
            "774a1d8a263d485eaeee4d718ef33a30",
            "14f089fc2a73427f9bdfb0359219076a",
            "d77211256742438cabaed9ab3303b12b",
            "04727bc09df046208ab9d6b8900bd98a",
            "072c11204ccf49d69badff218a1f9c9d",
            "b605113a5bcf4801b8bc0f67ed701976",
            "0d68ca46105c4ec3b5634310e97a78c6",
            "06a44f388a2c4dfdbc78c7c6c817494b",
            "68dcdbbc359847e19ef240264b22bb6b",
            "bb1e0646b5c3491f83153be589cd9d17",
            "f4f3eed3012d4f8eb7f1970121172d92",
            "a868f98f9b7346d99ace4caa8fd4fc28",
            "9cae31ce6876426e9a3864a203dfc70a",
            "dfaf490a214a41fc99b825f62313b318",
            "cf7ce3a7f2c941709514fb2a614118e1",
            "b1b1092f44fe40399eb9ff68b1697809"
          ]
        },
        "id": "PDlFFFUTSRrP",
        "outputId": "e6d0325c-b59c-4b75-95fe-44df9541e21c"
      },
      "outputs": [],
      "source": [
        "# Load the DeBERTa tokenizer\n",
        "tokenizer = DebertaTokenizer.from_pretrained(\"microsoft/deberta-base\")\n",
        "\n",
        "max_length = 192\n",
        "batch_size = 8\n",
        "\n",
        "train_text = train_dataset_raw.text.values\n",
        "eval_text = eval_dataset_raw.text.values\n",
        "test_text = test_dataset_raw.text.values\n",
        "\n",
        "\n",
        "encoding_train = tokenizer(train_text.tolist(), return_tensors='pt', padding=\"max_length\", truncation=True, max_length=max_length)\n",
        "encoding_eval = tokenizer(eval_text.tolist(), return_tensors='pt', padding=\"max_length\", truncation=True, max_length=max_length)\n",
        "encoding_test = tokenizer(test_text.tolist(), return_tensors='pt', padding=\"max_length\", truncation=True, max_length=max_length)\n",
        "\n",
        "encoding_train['label'] = torch.tensor([[0,1] if x == 1 else [1,0] for x in train_dataset_raw['label'].tolist()], dtype=torch.float32)\n",
        "encoding_eval['label'] = torch.tensor([[0,1] if x == 1 else [1,0] for x in eval_dataset_raw['label'].tolist()], dtype=torch.float32)\n",
        "encoding_test['label'] = torch.tensor([[0,1] if x == 1 else [1,0] for x in test_dataset_raw['label'].tolist()], dtype=torch.float32)"
      ]
    },
    {
      "cell_type": "code",
      "execution_count": 44,
      "metadata": {
        "id": "IC7crxlFgC2D"
      },
      "outputs": [],
      "source": [
        "class CustomDataset(Dataset):\n",
        "    def __init__(self, encodings):\n",
        "        self.encodings = encodings\n",
        "\n",
        "    def __getitem__(self, idx):\n",
        "        train_input_ids = self.encodings.input_ids[idx]\n",
        "        train_token_type_ids = self.encodings.token_type_ids[idx]\n",
        "        train_attention_mask = self.encodings.attention_mask[idx]\n",
        "        train_labels = self.encodings.label[idx]\n",
        "        return {\n",
        "            'input_ids': train_input_ids,\n",
        "            'token_type_ids': train_token_type_ids,\n",
        "            'attention_mask': train_attention_mask,\n",
        "            'labels': train_labels\n",
        "        }\n",
        "\n",
        "    def __len__(self):\n",
        "        return len(self.encodings.input_ids)"
      ]
    },
    {
      "cell_type": "code",
      "execution_count": 45,
      "metadata": {
        "id": "QlqE8YSSSRrP"
      },
      "outputs": [],
      "source": [
        "# Create an instance of the CustomDataset class\n",
        "train_dataset = CustomDataset(encoding_train)\n",
        "eval_dataset = CustomDataset(encoding_eval)\n",
        "test_dataset = CustomDataset(encoding_test)"
      ]
    },
    {
      "cell_type": "markdown",
      "metadata": {
        "id": "S-RVSnVNrBLG"
      },
      "source": [
        "# Model loading and training"
      ]
    },
    {
      "cell_type": "code",
      "execution_count": 52,
      "metadata": {},
      "outputs": [],
      "source": [
        "class PatronizeTrainer(Trainer):\n",
        "    def compute_loss(self, model, inputs, return_outputs = False):\n",
        "        \"\"\"\n",
        "        How the loss is computed by Trainer. By default, all models return the loss in the first element.\n",
        "\n",
        "        Subclass and override for custom behavior.\n",
        "        \"\"\"\n",
        "        labels = inputs.pop(\"labels\")\n",
        "        outputs = model(**inputs)\n",
        "        logits = outputs.logits\n",
        "        predictions = torch.nn.functional.softmax(logits, dim=1)\n",
        "        weights = torch.tensor([0.7, 1]).to(device)\n",
        "        loss = nn.BCELoss(weight=weights)(predictions, labels)\n",
        "\n",
        "        return (loss, outputs) if return_outputs else loss"
      ]
    },
    {
      "cell_type": "code",
      "execution_count": 53,
      "metadata": {
        "colab": {
          "base_uri": "https://localhost:8080/"
        },
        "id": "j69cSGsRSRrP",
        "outputId": "b89ab21f-9109-4685-d02c-57e9ad57ab67"
      },
      "outputs": [
        {
          "name": "stderr",
          "output_type": "stream",
          "text": [
            "Some weights of DebertaForSequenceClassification were not initialized from the model checkpoint at microsoft/deberta-base and are newly initialized: ['classifier.bias', 'classifier.weight', 'pooler.dense.bias', 'pooler.dense.weight']\n",
            "You should probably TRAIN this model on a down-stream task to be able to use it for predictions and inference.\n"
          ]
        }
      ],
      "source": [
        "model = DebertaForSequenceClassification.from_pretrained(\"microsoft/deberta-base\", num_labels=2)\n",
        "model = model.to(device)"
      ]
    },
    {
      "cell_type": "code",
      "execution_count": 54,
      "metadata": {
        "colab": {
          "base_uri": "https://localhost:8080/",
          "height": 521
        },
        "id": "a84O1Zv5SRrQ",
        "outputId": "a2f44c8b-29cd-4c53-81bc-a55ec9359327"
      },
      "outputs": [
        {
          "data": {
            "application/vnd.jupyter.widget-view+json": {
              "model_id": "0650e92c0c9149cf83a065a520fb8723",
              "version_major": 2,
              "version_minor": 0
            },
            "text/plain": [
              "  0%|          | 0/7328 [00:00<?, ?it/s]"
            ]
          },
          "metadata": {},
          "output_type": "display_data"
        },
        {
          "name": "stdout",
          "output_type": "stream",
          "text": [
            "{'loss': 0.2754, 'grad_norm': 14.37192153930664, 'learning_rate': 9.317685589519652e-06, 'epoch': 0.55}\n"
          ]
        },
        {
          "data": {
            "application/vnd.jupyter.widget-view+json": {
              "model_id": "561272931fed4a358dcfea5a187ae56e",
              "version_major": 2,
              "version_minor": 0
            },
            "text/plain": [
              "  0%|          | 0/210 [00:00<?, ?it/s]"
            ]
          },
          "metadata": {},
          "output_type": "display_data"
        },
        {
          "name": "stderr",
          "output_type": "stream",
          "text": [
            "Checkpoint destination directory ./results/checkpoint-916 already exists and is non-empty. Saving will proceed but saved results may be invalid.\n"
          ]
        },
        {
          "name": "stdout",
          "output_type": "stream",
          "text": [
            "{'eval_loss': 0.20147934556007385, 'eval_f1': 0.49295774647887325, 'eval_runtime': 12.4894, 'eval_samples_per_second': 134.113, 'eval_steps_per_second': 16.814, 'epoch': 1.0}\n",
            "{'loss': 0.2059, 'grad_norm': 3.310044527053833, 'learning_rate': 8.635371179039303e-06, 'epoch': 1.09}\n",
            "{'loss': 0.1762, 'grad_norm': 0.9693918824195862, 'learning_rate': 7.953056768558953e-06, 'epoch': 1.64}\n"
          ]
        },
        {
          "data": {
            "application/vnd.jupyter.widget-view+json": {
              "model_id": "b91d78c2034f40aea3fd6db2f463078a",
              "version_major": 2,
              "version_minor": 0
            },
            "text/plain": [
              "  0%|          | 0/210 [00:00<?, ?it/s]"
            ]
          },
          "metadata": {},
          "output_type": "display_data"
        },
        {
          "name": "stderr",
          "output_type": "stream",
          "text": [
            "Checkpoint destination directory ./results/checkpoint-1832 already exists and is non-empty. Saving will proceed but saved results may be invalid.\n"
          ]
        },
        {
          "name": "stdout",
          "output_type": "stream",
          "text": [
            "{'eval_loss': 0.23293890058994293, 'eval_f1': 0.5904761904761905, 'eval_runtime': 12.4323, 'eval_samples_per_second': 134.73, 'eval_steps_per_second': 16.891, 'epoch': 2.0}\n",
            "{'loss': 0.1438, 'grad_norm': 4.902472019195557, 'learning_rate': 7.270742358078603e-06, 'epoch': 2.18}\n",
            "{'loss': 0.0916, 'grad_norm': 48.93077087402344, 'learning_rate': 6.588427947598254e-06, 'epoch': 2.73}\n"
          ]
        },
        {
          "data": {
            "application/vnd.jupyter.widget-view+json": {
              "model_id": "f9cc95961dc94bdf94d5267459b0adcf",
              "version_major": 2,
              "version_minor": 0
            },
            "text/plain": [
              "  0%|          | 0/210 [00:00<?, ?it/s]"
            ]
          },
          "metadata": {},
          "output_type": "display_data"
        },
        {
          "name": "stderr",
          "output_type": "stream",
          "text": [
            "Checkpoint destination directory ./results/checkpoint-2748 already exists and is non-empty. Saving will proceed but saved results may be invalid.\n"
          ]
        },
        {
          "name": "stdout",
          "output_type": "stream",
          "text": [
            "{'eval_loss': 0.34103310108184814, 'eval_f1': 0.5740181268882175, 'eval_runtime': 12.5349, 'eval_samples_per_second': 133.627, 'eval_steps_per_second': 16.753, 'epoch': 3.0}\n",
            "{'loss': 0.0788, 'grad_norm': 0.007959708571434021, 'learning_rate': 5.906113537117905e-06, 'epoch': 3.28}\n",
            "{'loss': 0.0448, 'grad_norm': 0.0070580714382231236, 'learning_rate': 5.223799126637555e-06, 'epoch': 3.82}\n"
          ]
        },
        {
          "data": {
            "application/vnd.jupyter.widget-view+json": {
              "model_id": "47f5f43c31e1436890c25172bf7a4686",
              "version_major": 2,
              "version_minor": 0
            },
            "text/plain": [
              "  0%|          | 0/210 [00:00<?, ?it/s]"
            ]
          },
          "metadata": {},
          "output_type": "display_data"
        },
        {
          "name": "stderr",
          "output_type": "stream",
          "text": [
            "Checkpoint destination directory ./results/checkpoint-3664 already exists and is non-empty. Saving will proceed but saved results may be invalid.\n"
          ]
        },
        {
          "name": "stdout",
          "output_type": "stream",
          "text": [
            "{'eval_loss': 0.43240365386009216, 'eval_f1': 0.4777327935222672, 'eval_runtime': 12.4908, 'eval_samples_per_second': 134.099, 'eval_steps_per_second': 16.812, 'epoch': 4.0}\n",
            "{'loss': 0.0409, 'grad_norm': 0.053239986300468445, 'learning_rate': 4.541484716157206e-06, 'epoch': 4.37}\n",
            "{'loss': 0.0248, 'grad_norm': 0.003801570041105151, 'learning_rate': 3.859170305676857e-06, 'epoch': 4.91}\n"
          ]
        },
        {
          "data": {
            "application/vnd.jupyter.widget-view+json": {
              "model_id": "4f36f4c8840e4fe9a3dfd56e78def161",
              "version_major": 2,
              "version_minor": 0
            },
            "text/plain": [
              "  0%|          | 0/210 [00:00<?, ?it/s]"
            ]
          },
          "metadata": {},
          "output_type": "display_data"
        },
        {
          "name": "stderr",
          "output_type": "stream",
          "text": [
            "Checkpoint destination directory ./results/checkpoint-4580 already exists and is non-empty. Saving will proceed but saved results may be invalid.\n"
          ]
        },
        {
          "name": "stdout",
          "output_type": "stream",
          "text": [
            "{'eval_loss': 0.4953130781650543, 'eval_f1': 0.49624060150375937, 'eval_runtime': 12.4367, 'eval_samples_per_second': 134.682, 'eval_steps_per_second': 16.885, 'epoch': 5.0}\n",
            "{'loss': 0.0125, 'grad_norm': 0.0019463683711364865, 'learning_rate': 3.176855895196507e-06, 'epoch': 5.46}\n"
          ]
        },
        {
          "data": {
            "application/vnd.jupyter.widget-view+json": {
              "model_id": "5f2e933fc78d441f937c6f366d5fe53a",
              "version_major": 2,
              "version_minor": 0
            },
            "text/plain": [
              "  0%|          | 0/210 [00:00<?, ?it/s]"
            ]
          },
          "metadata": {},
          "output_type": "display_data"
        },
        {
          "name": "stderr",
          "output_type": "stream",
          "text": [
            "Checkpoint destination directory ./results/checkpoint-5496 already exists and is non-empty. Saving will proceed but saved results may be invalid.\n"
          ]
        },
        {
          "name": "stdout",
          "output_type": "stream",
          "text": [
            "{'eval_loss': 0.5323057770729065, 'eval_f1': 0.5252525252525253, 'eval_runtime': 12.538, 'eval_samples_per_second': 133.594, 'eval_steps_per_second': 16.749, 'epoch': 6.0}\n",
            "{'loss': 0.0148, 'grad_norm': 0.002516418229788542, 'learning_rate': 2.4945414847161576e-06, 'epoch': 6.0}\n",
            "{'loss': 0.0027, 'grad_norm': 0.0012978777522221208, 'learning_rate': 1.812227074235808e-06, 'epoch': 6.55}\n"
          ]
        },
        {
          "data": {
            "application/vnd.jupyter.widget-view+json": {
              "model_id": "60479e6c7f8c4cf48c6ae825e761d96f",
              "version_major": 2,
              "version_minor": 0
            },
            "text/plain": [
              "  0%|          | 0/210 [00:00<?, ?it/s]"
            ]
          },
          "metadata": {},
          "output_type": "display_data"
        },
        {
          "name": "stderr",
          "output_type": "stream",
          "text": [
            "Checkpoint destination directory ./results/checkpoint-6412 already exists and is non-empty. Saving will proceed but saved results may be invalid.\n"
          ]
        },
        {
          "name": "stdout",
          "output_type": "stream",
          "text": [
            "{'eval_loss': 0.592703640460968, 'eval_f1': 0.5163398692810458, 'eval_runtime': 12.5281, 'eval_samples_per_second': 133.7, 'eval_steps_per_second': 16.762, 'epoch': 7.0}\n",
            "{'loss': 0.0042, 'grad_norm': 0.0027160902973264456, 'learning_rate': 1.1299126637554586e-06, 'epoch': 7.1}\n",
            "{'loss': 0.004, 'grad_norm': 0.0011566125322133303, 'learning_rate': 4.4759825327510923e-07, 'epoch': 7.64}\n"
          ]
        },
        {
          "data": {
            "application/vnd.jupyter.widget-view+json": {
              "model_id": "2f0be93233c543dc9159d7fce346167d",
              "version_major": 2,
              "version_minor": 0
            },
            "text/plain": [
              "  0%|          | 0/210 [00:00<?, ?it/s]"
            ]
          },
          "metadata": {},
          "output_type": "display_data"
        },
        {
          "name": "stderr",
          "output_type": "stream",
          "text": [
            "Checkpoint destination directory ./results/checkpoint-7328 already exists and is non-empty. Saving will proceed but saved results may be invalid.\n"
          ]
        },
        {
          "name": "stdout",
          "output_type": "stream",
          "text": [
            "{'eval_loss': 0.611011266708374, 'eval_f1': 0.5205479452054794, 'eval_runtime': 12.5745, 'eval_samples_per_second': 133.206, 'eval_steps_per_second': 16.7, 'epoch': 8.0}\n",
            "{'train_runtime': 1703.0456, 'train_samples_per_second': 34.418, 'train_steps_per_second': 4.303, 'train_loss': 0.07645877031812762, 'epoch': 8.0}\n"
          ]
        },
        {
          "data": {
            "application/vnd.jupyter.widget-view+json": {
              "model_id": "c1f9fb2a608841918f7e3d054a732ac9",
              "version_major": 2,
              "version_minor": 0
            },
            "text/plain": [
              "  0%|          | 0/262 [00:00<?, ?it/s]"
            ]
          },
          "metadata": {},
          "output_type": "display_data"
        },
        {
          "data": {
            "text/plain": [
              "PredictionOutput(predictions=array([[ 1.5687085, -1.7673488],\n",
              "       [-1.5307105,  1.7029703],\n",
              "       [ 2.222961 , -2.3399305],\n",
              "       ...,\n",
              "       [ 2.5631595, -2.7579694],\n",
              "       [ 1.7213833, -1.8195697],\n",
              "       [ 3.4756799, -3.5509446]], dtype=float32), label_ids=array([[0., 1.],\n",
              "       [0., 1.],\n",
              "       [0., 1.],\n",
              "       ...,\n",
              "       [1., 0.],\n",
              "       [1., 0.],\n",
              "       [1., 0.]], dtype=float32), metrics={'test_loss': 0.20992513000965118, 'test_f1': 0.5729166666666666, 'test_runtime': 15.617, 'test_samples_per_second': 134.085, 'test_steps_per_second': 16.777})"
            ]
          },
          "execution_count": 54,
          "metadata": {},
          "output_type": "execute_result"
        }
      ],
      "source": [
        "epochs = 8\n",
        "lr = 1e-5\n",
        "\n",
        "def compute_metrics(eval_pred):\n",
        "    logits, labels = eval_pred\n",
        "    predictions = np.argmax(logits, axis=-1)\n",
        "    labels = np.argmax(labels, axis=-1)\n",
        "    f1 = f1_score(labels, predictions, average='binary')\n",
        "    return {'f1': f1}\n",
        "\n",
        "trainingargs = TrainingArguments(\n",
        "    learning_rate=lr,\n",
        "    weight_decay=1e-2,\n",
        "    output_dir='./results',\n",
        "    overwrite_output_dir=True,\n",
        "    num_train_epochs=epochs,\n",
        "    per_device_train_batch_size=batch_size,\n",
        "    per_device_eval_batch_size=batch_size,\n",
        "    evaluation_strategy=\"epoch\",\n",
        "    report_to=None,\n",
        "    metric_for_best_model=\"f1\",\n",
        "    save_strategy='epoch',\n",
        "    load_best_model_at_end=True,\n",
        "    seed=random_seed,\n",
        "    optim='adamw_torch',\n",
        ")\n",
        "\n",
        "trainer = PatronizeTrainer(\n",
        "    model=model,\n",
        "    args=trainingargs,\n",
        "    train_dataset=train_dataset,\n",
        "    eval_dataset=eval_dataset,\n",
        "    compute_metrics=compute_metrics,\n",
        ")\n",
        "\n",
        "trainer.train()\n",
        "# Here the best model has been already loaded\n",
        "trainer.predict(test_dataset)"
      ]
    },
    {
      "cell_type": "code",
      "execution_count": 29,
      "metadata": {
        "id": "PPrhq31pNxJZ"
      },
      "outputs": [],
      "source": [
        "trainer.save_model('./results/best_model')"
      ]
    },
    {
      "cell_type": "markdown",
      "metadata": {
        "id": "iC8GsZEQq7qk"
      },
      "source": [
        "# Saving predictions"
      ]
    },
    {
      "cell_type": "code",
      "execution_count": 12,
      "metadata": {
        "id": "QMNFrqCESRrO"
      },
      "outputs": [],
      "source": [
        "# helper function to save predictions to an output file\n",
        "def labels2file(p, outf_path):\n",
        "\twith open(outf_path,'w') as outf:\n",
        "\t\tfor pi in p:\n",
        "\t\t\toutf.write(','.join([str(k) for k in pi])+'\\n')"
      ]
    }
  ],
  "metadata": {
    "accelerator": "GPU",
    "colab": {
      "collapsed_sections": [
        "FlaiJku5qy-o",
        "lC4Qvf50rJ65",
        "iC8GsZEQq7qk"
      ],
      "gpuType": "T4",
      "provenance": []
    },
    "kernelspec": {
      "display_name": "Python 3",
      "name": "python3"
    },
    "language_info": {
      "codemirror_mode": {
        "name": "ipython",
        "version": 3
      },
      "file_extension": ".py",
      "mimetype": "text/x-python",
      "name": "python",
      "nbconvert_exporter": "python",
      "pygments_lexer": "ipython3",
      "version": "3.10.12"
    },
    "widgets": {
      "application/vnd.jupyter.widget-state+json": {
        "04727bc09df046208ab9d6b8900bd98a": {
          "model_module": "@jupyter-widgets/base",
          "model_module_version": "1.2.0",
          "model_name": "LayoutModel",
          "state": {
            "_model_module": "@jupyter-widgets/base",
            "_model_module_version": "1.2.0",
            "_model_name": "LayoutModel",
            "_view_count": null,
            "_view_module": "@jupyter-widgets/base",
            "_view_module_version": "1.2.0",
            "_view_name": "LayoutView",
            "align_content": null,
            "align_items": null,
            "align_self": null,
            "border": null,
            "bottom": null,
            "display": null,
            "flex": null,
            "flex_flow": null,
            "grid_area": null,
            "grid_auto_columns": null,
            "grid_auto_flow": null,
            "grid_auto_rows": null,
            "grid_column": null,
            "grid_gap": null,
            "grid_row": null,
            "grid_template_areas": null,
            "grid_template_columns": null,
            "grid_template_rows": null,
            "height": null,
            "justify_content": null,
            "justify_items": null,
            "left": null,
            "margin": null,
            "max_height": null,
            "max_width": null,
            "min_height": null,
            "min_width": null,
            "object_fit": null,
            "object_position": null,
            "order": null,
            "overflow": null,
            "overflow_x": null,
            "overflow_y": null,
            "padding": null,
            "right": null,
            "top": null,
            "visibility": null,
            "width": null
          }
        },
        "06a44f388a2c4dfdbc78c7c6c817494b": {
          "model_module": "@jupyter-widgets/controls",
          "model_module_version": "1.5.0",
          "model_name": "FloatProgressModel",
          "state": {
            "_dom_classes": [],
            "_model_module": "@jupyter-widgets/controls",
            "_model_module_version": "1.5.0",
            "_model_name": "FloatProgressModel",
            "_view_count": null,
            "_view_module": "@jupyter-widgets/controls",
            "_view_module_version": "1.5.0",
            "_view_name": "ProgressView",
            "bar_style": "success",
            "description": "",
            "description_tooltip": null,
            "layout": "IPY_MODEL_9cae31ce6876426e9a3864a203dfc70a",
            "max": 474,
            "min": 0,
            "orientation": "horizontal",
            "style": "IPY_MODEL_dfaf490a214a41fc99b825f62313b318",
            "value": 474
          }
        },
        "072c11204ccf49d69badff218a1f9c9d": {
          "model_module": "@jupyter-widgets/controls",
          "model_module_version": "1.5.0",
          "model_name": "DescriptionStyleModel",
          "state": {
            "_model_module": "@jupyter-widgets/controls",
            "_model_module_version": "1.5.0",
            "_model_name": "DescriptionStyleModel",
            "_view_count": null,
            "_view_module": "@jupyter-widgets/base",
            "_view_module_version": "1.2.0",
            "_view_name": "StyleView",
            "description_width": ""
          }
        },
        "0d68ca46105c4ec3b5634310e97a78c6": {
          "model_module": "@jupyter-widgets/controls",
          "model_module_version": "1.5.0",
          "model_name": "HTMLModel",
          "state": {
            "_dom_classes": [],
            "_model_module": "@jupyter-widgets/controls",
            "_model_module_version": "1.5.0",
            "_model_name": "HTMLModel",
            "_view_count": null,
            "_view_module": "@jupyter-widgets/controls",
            "_view_module_version": "1.5.0",
            "_view_name": "HTMLView",
            "description": "",
            "description_tooltip": null,
            "layout": "IPY_MODEL_f4f3eed3012d4f8eb7f1970121172d92",
            "placeholder": "​",
            "style": "IPY_MODEL_a868f98f9b7346d99ace4caa8fd4fc28",
            "value": "config.json: 100%"
          }
        },
        "14f089fc2a73427f9bdfb0359219076a": {
          "model_module": "@jupyter-widgets/base",
          "model_module_version": "1.2.0",
          "model_name": "LayoutModel",
          "state": {
            "_model_module": "@jupyter-widgets/base",
            "_model_module_version": "1.2.0",
            "_model_name": "LayoutModel",
            "_view_count": null,
            "_view_module": "@jupyter-widgets/base",
            "_view_module_version": "1.2.0",
            "_view_name": "LayoutView",
            "align_content": null,
            "align_items": null,
            "align_self": null,
            "border": null,
            "bottom": null,
            "display": null,
            "flex": null,
            "flex_flow": null,
            "grid_area": null,
            "grid_auto_columns": null,
            "grid_auto_flow": null,
            "grid_auto_rows": null,
            "grid_column": null,
            "grid_gap": null,
            "grid_row": null,
            "grid_template_areas": null,
            "grid_template_columns": null,
            "grid_template_rows": null,
            "height": null,
            "justify_content": null,
            "justify_items": null,
            "left": null,
            "margin": null,
            "max_height": null,
            "max_width": null,
            "min_height": null,
            "min_width": null,
            "object_fit": null,
            "object_position": null,
            "order": null,
            "overflow": null,
            "overflow_x": null,
            "overflow_y": null,
            "padding": null,
            "right": null,
            "top": null,
            "visibility": null,
            "width": null
          }
        },
        "14f7e814f85044d8859e83a6eda2be0a": {
          "model_module": "@jupyter-widgets/base",
          "model_module_version": "1.2.0",
          "model_name": "LayoutModel",
          "state": {
            "_model_module": "@jupyter-widgets/base",
            "_model_module_version": "1.2.0",
            "_model_name": "LayoutModel",
            "_view_count": null,
            "_view_module": "@jupyter-widgets/base",
            "_view_module_version": "1.2.0",
            "_view_name": "LayoutView",
            "align_content": null,
            "align_items": null,
            "align_self": null,
            "border": null,
            "bottom": null,
            "display": null,
            "flex": null,
            "flex_flow": null,
            "grid_area": null,
            "grid_auto_columns": null,
            "grid_auto_flow": null,
            "grid_auto_rows": null,
            "grid_column": null,
            "grid_gap": null,
            "grid_row": null,
            "grid_template_areas": null,
            "grid_template_columns": null,
            "grid_template_rows": null,
            "height": null,
            "justify_content": null,
            "justify_items": null,
            "left": null,
            "margin": null,
            "max_height": null,
            "max_width": null,
            "min_height": null,
            "min_width": null,
            "object_fit": null,
            "object_position": null,
            "order": null,
            "overflow": null,
            "overflow_x": null,
            "overflow_y": null,
            "padding": null,
            "right": null,
            "top": null,
            "visibility": null,
            "width": null
          }
        },
        "2c927e14010a489fb7a8cd0a26c82541": {
          "model_module": "@jupyter-widgets/base",
          "model_module_version": "1.2.0",
          "model_name": "LayoutModel",
          "state": {
            "_model_module": "@jupyter-widgets/base",
            "_model_module_version": "1.2.0",
            "_model_name": "LayoutModel",
            "_view_count": null,
            "_view_module": "@jupyter-widgets/base",
            "_view_module_version": "1.2.0",
            "_view_name": "LayoutView",
            "align_content": null,
            "align_items": null,
            "align_self": null,
            "border": null,
            "bottom": null,
            "display": null,
            "flex": null,
            "flex_flow": null,
            "grid_area": null,
            "grid_auto_columns": null,
            "grid_auto_flow": null,
            "grid_auto_rows": null,
            "grid_column": null,
            "grid_gap": null,
            "grid_row": null,
            "grid_template_areas": null,
            "grid_template_columns": null,
            "grid_template_rows": null,
            "height": null,
            "justify_content": null,
            "justify_items": null,
            "left": null,
            "margin": null,
            "max_height": null,
            "max_width": null,
            "min_height": null,
            "min_width": null,
            "object_fit": null,
            "object_position": null,
            "order": null,
            "overflow": null,
            "overflow_x": null,
            "overflow_y": null,
            "padding": null,
            "right": null,
            "top": null,
            "visibility": null,
            "width": null
          }
        },
        "31c302ac2c524290a71a3809664a65b6": {
          "model_module": "@jupyter-widgets/base",
          "model_module_version": "1.2.0",
          "model_name": "LayoutModel",
          "state": {
            "_model_module": "@jupyter-widgets/base",
            "_model_module_version": "1.2.0",
            "_model_name": "LayoutModel",
            "_view_count": null,
            "_view_module": "@jupyter-widgets/base",
            "_view_module_version": "1.2.0",
            "_view_name": "LayoutView",
            "align_content": null,
            "align_items": null,
            "align_self": null,
            "border": null,
            "bottom": null,
            "display": null,
            "flex": null,
            "flex_flow": null,
            "grid_area": null,
            "grid_auto_columns": null,
            "grid_auto_flow": null,
            "grid_auto_rows": null,
            "grid_column": null,
            "grid_gap": null,
            "grid_row": null,
            "grid_template_areas": null,
            "grid_template_columns": null,
            "grid_template_rows": null,
            "height": null,
            "justify_content": null,
            "justify_items": null,
            "left": null,
            "margin": null,
            "max_height": null,
            "max_width": null,
            "min_height": null,
            "min_width": null,
            "object_fit": null,
            "object_position": null,
            "order": null,
            "overflow": null,
            "overflow_x": null,
            "overflow_y": null,
            "padding": null,
            "right": null,
            "top": null,
            "visibility": null,
            "width": null
          }
        },
        "4b8edbdbadbc419b95b6efa557b8d2fe": {
          "model_module": "@jupyter-widgets/controls",
          "model_module_version": "1.5.0",
          "model_name": "DescriptionStyleModel",
          "state": {
            "_model_module": "@jupyter-widgets/controls",
            "_model_module_version": "1.5.0",
            "_model_name": "DescriptionStyleModel",
            "_view_count": null,
            "_view_module": "@jupyter-widgets/base",
            "_view_module_version": "1.2.0",
            "_view_name": "StyleView",
            "description_width": ""
          }
        },
        "4d0202851bc944f3ae637cd6feb6e731": {
          "model_module": "@jupyter-widgets/base",
          "model_module_version": "1.2.0",
          "model_name": "LayoutModel",
          "state": {
            "_model_module": "@jupyter-widgets/base",
            "_model_module_version": "1.2.0",
            "_model_name": "LayoutModel",
            "_view_count": null,
            "_view_module": "@jupyter-widgets/base",
            "_view_module_version": "1.2.0",
            "_view_name": "LayoutView",
            "align_content": null,
            "align_items": null,
            "align_self": null,
            "border": null,
            "bottom": null,
            "display": null,
            "flex": null,
            "flex_flow": null,
            "grid_area": null,
            "grid_auto_columns": null,
            "grid_auto_flow": null,
            "grid_auto_rows": null,
            "grid_column": null,
            "grid_gap": null,
            "grid_row": null,
            "grid_template_areas": null,
            "grid_template_columns": null,
            "grid_template_rows": null,
            "height": null,
            "justify_content": null,
            "justify_items": null,
            "left": null,
            "margin": null,
            "max_height": null,
            "max_width": null,
            "min_height": null,
            "min_width": null,
            "object_fit": null,
            "object_position": null,
            "order": null,
            "overflow": null,
            "overflow_x": null,
            "overflow_y": null,
            "padding": null,
            "right": null,
            "top": null,
            "visibility": null,
            "width": null
          }
        },
        "4d67b8c63b754b84abfe6d2844a1a6ba": {
          "model_module": "@jupyter-widgets/controls",
          "model_module_version": "1.5.0",
          "model_name": "HTMLModel",
          "state": {
            "_dom_classes": [],
            "_model_module": "@jupyter-widgets/controls",
            "_model_module_version": "1.5.0",
            "_model_name": "HTMLModel",
            "_view_count": null,
            "_view_module": "@jupyter-widgets/controls",
            "_view_module_version": "1.5.0",
            "_view_name": "HTMLView",
            "description": "",
            "description_tooltip": null,
            "layout": "IPY_MODEL_14f7e814f85044d8859e83a6eda2be0a",
            "placeholder": "​",
            "style": "IPY_MODEL_f37bed816fd243b98857b54756f9aac5",
            "value": "tokenizer_config.json: 100%"
          }
        },
        "4db32d6530c64d28aa7eee8b6a9d9a50": {
          "model_module": "@jupyter-widgets/base",
          "model_module_version": "1.2.0",
          "model_name": "LayoutModel",
          "state": {
            "_model_module": "@jupyter-widgets/base",
            "_model_module_version": "1.2.0",
            "_model_name": "LayoutModel",
            "_view_count": null,
            "_view_module": "@jupyter-widgets/base",
            "_view_module_version": "1.2.0",
            "_view_name": "LayoutView",
            "align_content": null,
            "align_items": null,
            "align_self": null,
            "border": null,
            "bottom": null,
            "display": null,
            "flex": null,
            "flex_flow": null,
            "grid_area": null,
            "grid_auto_columns": null,
            "grid_auto_flow": null,
            "grid_auto_rows": null,
            "grid_column": null,
            "grid_gap": null,
            "grid_row": null,
            "grid_template_areas": null,
            "grid_template_columns": null,
            "grid_template_rows": null,
            "height": null,
            "justify_content": null,
            "justify_items": null,
            "left": null,
            "margin": null,
            "max_height": null,
            "max_width": null,
            "min_height": null,
            "min_width": null,
            "object_fit": null,
            "object_position": null,
            "order": null,
            "overflow": null,
            "overflow_x": null,
            "overflow_y": null,
            "padding": null,
            "right": null,
            "top": null,
            "visibility": null,
            "width": null
          }
        },
        "511ad99443da4396b877ee3a7ad364a7": {
          "model_module": "@jupyter-widgets/base",
          "model_module_version": "1.2.0",
          "model_name": "LayoutModel",
          "state": {
            "_model_module": "@jupyter-widgets/base",
            "_model_module_version": "1.2.0",
            "_model_name": "LayoutModel",
            "_view_count": null,
            "_view_module": "@jupyter-widgets/base",
            "_view_module_version": "1.2.0",
            "_view_name": "LayoutView",
            "align_content": null,
            "align_items": null,
            "align_self": null,
            "border": null,
            "bottom": null,
            "display": null,
            "flex": null,
            "flex_flow": null,
            "grid_area": null,
            "grid_auto_columns": null,
            "grid_auto_flow": null,
            "grid_auto_rows": null,
            "grid_column": null,
            "grid_gap": null,
            "grid_row": null,
            "grid_template_areas": null,
            "grid_template_columns": null,
            "grid_template_rows": null,
            "height": null,
            "justify_content": null,
            "justify_items": null,
            "left": null,
            "margin": null,
            "max_height": null,
            "max_width": null,
            "min_height": null,
            "min_width": null,
            "object_fit": null,
            "object_position": null,
            "order": null,
            "overflow": null,
            "overflow_x": null,
            "overflow_y": null,
            "padding": null,
            "right": null,
            "top": null,
            "visibility": null,
            "width": null
          }
        },
        "635045ff2ff645639b1ebb72f6a1c7d2": {
          "model_module": "@jupyter-widgets/controls",
          "model_module_version": "1.5.0",
          "model_name": "DescriptionStyleModel",
          "state": {
            "_model_module": "@jupyter-widgets/controls",
            "_model_module_version": "1.5.0",
            "_model_name": "DescriptionStyleModel",
            "_view_count": null,
            "_view_module": "@jupyter-widgets/base",
            "_view_module_version": "1.2.0",
            "_view_name": "StyleView",
            "description_width": ""
          }
        },
        "68dcdbbc359847e19ef240264b22bb6b": {
          "model_module": "@jupyter-widgets/controls",
          "model_module_version": "1.5.0",
          "model_name": "HTMLModel",
          "state": {
            "_dom_classes": [],
            "_model_module": "@jupyter-widgets/controls",
            "_model_module_version": "1.5.0",
            "_model_name": "HTMLModel",
            "_view_count": null,
            "_view_module": "@jupyter-widgets/controls",
            "_view_module_version": "1.5.0",
            "_view_name": "HTMLView",
            "description": "",
            "description_tooltip": null,
            "layout": "IPY_MODEL_cf7ce3a7f2c941709514fb2a614118e1",
            "placeholder": "​",
            "style": "IPY_MODEL_b1b1092f44fe40399eb9ff68b1697809",
            "value": " 474/474 [00:00&lt;00:00, 30.3kB/s]"
          }
        },
        "6a77123106354f2eb12277910af5c928": {
          "model_module": "@jupyter-widgets/controls",
          "model_module_version": "1.5.0",
          "model_name": "ProgressStyleModel",
          "state": {
            "_model_module": "@jupyter-widgets/controls",
            "_model_module_version": "1.5.0",
            "_model_name": "ProgressStyleModel",
            "_view_count": null,
            "_view_module": "@jupyter-widgets/base",
            "_view_module_version": "1.2.0",
            "_view_name": "StyleView",
            "bar_color": null,
            "description_width": ""
          }
        },
        "6cd71eb12fd646ab8e79da062b88d38d": {
          "model_module": "@jupyter-widgets/controls",
          "model_module_version": "1.5.0",
          "model_name": "FloatProgressModel",
          "state": {
            "_dom_classes": [],
            "_model_module": "@jupyter-widgets/controls",
            "_model_module_version": "1.5.0",
            "_model_name": "FloatProgressModel",
            "_view_count": null,
            "_view_module": "@jupyter-widgets/controls",
            "_view_module_version": "1.5.0",
            "_view_name": "ProgressView",
            "bar_style": "success",
            "description": "",
            "description_tooltip": null,
            "layout": "IPY_MODEL_b61ba4ba8696406998733d520b396436",
            "max": 898825,
            "min": 0,
            "orientation": "horizontal",
            "style": "IPY_MODEL_bef1c7691c5240ed922b902ef6105f41",
            "value": 898825
          }
        },
        "774a1d8a263d485eaeee4d718ef33a30": {
          "model_module": "@jupyter-widgets/controls",
          "model_module_version": "1.5.0",
          "model_name": "DescriptionStyleModel",
          "state": {
            "_model_module": "@jupyter-widgets/controls",
            "_model_module_version": "1.5.0",
            "_model_name": "DescriptionStyleModel",
            "_view_count": null,
            "_view_module": "@jupyter-widgets/base",
            "_view_module_version": "1.2.0",
            "_view_name": "StyleView",
            "description_width": ""
          }
        },
        "7d92b22a2acb4386826669d7f472e91a": {
          "model_module": "@jupyter-widgets/base",
          "model_module_version": "1.2.0",
          "model_name": "LayoutModel",
          "state": {
            "_model_module": "@jupyter-widgets/base",
            "_model_module_version": "1.2.0",
            "_model_name": "LayoutModel",
            "_view_count": null,
            "_view_module": "@jupyter-widgets/base",
            "_view_module_version": "1.2.0",
            "_view_name": "LayoutView",
            "align_content": null,
            "align_items": null,
            "align_self": null,
            "border": null,
            "bottom": null,
            "display": null,
            "flex": null,
            "flex_flow": null,
            "grid_area": null,
            "grid_auto_columns": null,
            "grid_auto_flow": null,
            "grid_auto_rows": null,
            "grid_column": null,
            "grid_gap": null,
            "grid_row": null,
            "grid_template_areas": null,
            "grid_template_columns": null,
            "grid_template_rows": null,
            "height": null,
            "justify_content": null,
            "justify_items": null,
            "left": null,
            "margin": null,
            "max_height": null,
            "max_width": null,
            "min_height": null,
            "min_width": null,
            "object_fit": null,
            "object_position": null,
            "order": null,
            "overflow": null,
            "overflow_x": null,
            "overflow_y": null,
            "padding": null,
            "right": null,
            "top": null,
            "visibility": null,
            "width": null
          }
        },
        "817e83a9d72d4a16bf303e24ef7edb29": {
          "model_module": "@jupyter-widgets/controls",
          "model_module_version": "1.5.0",
          "model_name": "HTMLModel",
          "state": {
            "_dom_classes": [],
            "_model_module": "@jupyter-widgets/controls",
            "_model_module_version": "1.5.0",
            "_model_name": "HTMLModel",
            "_view_count": null,
            "_view_module": "@jupyter-widgets/controls",
            "_view_module_version": "1.5.0",
            "_view_name": "HTMLView",
            "description": "",
            "description_tooltip": null,
            "layout": "IPY_MODEL_4db32d6530c64d28aa7eee8b6a9d9a50",
            "placeholder": "​",
            "style": "IPY_MODEL_774a1d8a263d485eaeee4d718ef33a30",
            "value": "merges.txt: 100%"
          }
        },
        "868abfadffea4baf8016644f6133f2bf": {
          "model_module": "@jupyter-widgets/controls",
          "model_module_version": "1.5.0",
          "model_name": "HTMLModel",
          "state": {
            "_dom_classes": [],
            "_model_module": "@jupyter-widgets/controls",
            "_model_module_version": "1.5.0",
            "_model_name": "HTMLModel",
            "_view_count": null,
            "_view_module": "@jupyter-widgets/controls",
            "_view_module_version": "1.5.0",
            "_view_name": "HTMLView",
            "description": "",
            "description_tooltip": null,
            "layout": "IPY_MODEL_04727bc09df046208ab9d6b8900bd98a",
            "placeholder": "​",
            "style": "IPY_MODEL_072c11204ccf49d69badff218a1f9c9d",
            "value": " 456k/456k [00:00&lt;00:00, 14.6MB/s]"
          }
        },
        "92dbb7e5bc3f43b79e032734d15be708": {
          "model_module": "@jupyter-widgets/base",
          "model_module_version": "1.2.0",
          "model_name": "LayoutModel",
          "state": {
            "_model_module": "@jupyter-widgets/base",
            "_model_module_version": "1.2.0",
            "_model_name": "LayoutModel",
            "_view_count": null,
            "_view_module": "@jupyter-widgets/base",
            "_view_module_version": "1.2.0",
            "_view_name": "LayoutView",
            "align_content": null,
            "align_items": null,
            "align_self": null,
            "border": null,
            "bottom": null,
            "display": null,
            "flex": null,
            "flex_flow": null,
            "grid_area": null,
            "grid_auto_columns": null,
            "grid_auto_flow": null,
            "grid_auto_rows": null,
            "grid_column": null,
            "grid_gap": null,
            "grid_row": null,
            "grid_template_areas": null,
            "grid_template_columns": null,
            "grid_template_rows": null,
            "height": null,
            "justify_content": null,
            "justify_items": null,
            "left": null,
            "margin": null,
            "max_height": null,
            "max_width": null,
            "min_height": null,
            "min_width": null,
            "object_fit": null,
            "object_position": null,
            "order": null,
            "overflow": null,
            "overflow_x": null,
            "overflow_y": null,
            "padding": null,
            "right": null,
            "top": null,
            "visibility": null,
            "width": null
          }
        },
        "98d4eb61d2ea4f319c4269e51a5883e4": {
          "model_module": "@jupyter-widgets/controls",
          "model_module_version": "1.5.0",
          "model_name": "HBoxModel",
          "state": {
            "_dom_classes": [],
            "_model_module": "@jupyter-widgets/controls",
            "_model_module_version": "1.5.0",
            "_model_name": "HBoxModel",
            "_view_count": null,
            "_view_module": "@jupyter-widgets/controls",
            "_view_module_version": "1.5.0",
            "_view_name": "HBoxView",
            "box_style": "",
            "children": [
              "IPY_MODEL_4d67b8c63b754b84abfe6d2844a1a6ba",
              "IPY_MODEL_bff7202b9ca1402d9ea5992a15ddca95",
              "IPY_MODEL_fba5045bc23b4ba5984382e1e63024d5"
            ],
            "layout": "IPY_MODEL_4d0202851bc944f3ae637cd6feb6e731"
          }
        },
        "9cae31ce6876426e9a3864a203dfc70a": {
          "model_module": "@jupyter-widgets/base",
          "model_module_version": "1.2.0",
          "model_name": "LayoutModel",
          "state": {
            "_model_module": "@jupyter-widgets/base",
            "_model_module_version": "1.2.0",
            "_model_name": "LayoutModel",
            "_view_count": null,
            "_view_module": "@jupyter-widgets/base",
            "_view_module_version": "1.2.0",
            "_view_name": "LayoutView",
            "align_content": null,
            "align_items": null,
            "align_self": null,
            "border": null,
            "bottom": null,
            "display": null,
            "flex": null,
            "flex_flow": null,
            "grid_area": null,
            "grid_auto_columns": null,
            "grid_auto_flow": null,
            "grid_auto_rows": null,
            "grid_column": null,
            "grid_gap": null,
            "grid_row": null,
            "grid_template_areas": null,
            "grid_template_columns": null,
            "grid_template_rows": null,
            "height": null,
            "justify_content": null,
            "justify_items": null,
            "left": null,
            "margin": null,
            "max_height": null,
            "max_width": null,
            "min_height": null,
            "min_width": null,
            "object_fit": null,
            "object_position": null,
            "order": null,
            "overflow": null,
            "overflow_x": null,
            "overflow_y": null,
            "padding": null,
            "right": null,
            "top": null,
            "visibility": null,
            "width": null
          }
        },
        "a4c003ba02da4d52bf09eb6462c08ccd": {
          "model_module": "@jupyter-widgets/controls",
          "model_module_version": "1.5.0",
          "model_name": "HBoxModel",
          "state": {
            "_dom_classes": [],
            "_model_module": "@jupyter-widgets/controls",
            "_model_module_version": "1.5.0",
            "_model_name": "HBoxModel",
            "_view_count": null,
            "_view_module": "@jupyter-widgets/controls",
            "_view_module_version": "1.5.0",
            "_view_name": "HBoxView",
            "box_style": "",
            "children": [
              "IPY_MODEL_d64ac9a2bd4c473f96f7ce5ffc34ce6c",
              "IPY_MODEL_6cd71eb12fd646ab8e79da062b88d38d",
              "IPY_MODEL_e59aa4309e2d4be78cc33dbf134c7e05"
            ],
            "layout": "IPY_MODEL_92dbb7e5bc3f43b79e032734d15be708"
          }
        },
        "a868f98f9b7346d99ace4caa8fd4fc28": {
          "model_module": "@jupyter-widgets/controls",
          "model_module_version": "1.5.0",
          "model_name": "DescriptionStyleModel",
          "state": {
            "_model_module": "@jupyter-widgets/controls",
            "_model_module_version": "1.5.0",
            "_model_name": "DescriptionStyleModel",
            "_view_count": null,
            "_view_module": "@jupyter-widgets/base",
            "_view_module_version": "1.2.0",
            "_view_name": "StyleView",
            "description_width": ""
          }
        },
        "aaa63a8f547845adbcbd0ba5b8d1e58b": {
          "model_module": "@jupyter-widgets/controls",
          "model_module_version": "1.5.0",
          "model_name": "HBoxModel",
          "state": {
            "_dom_classes": [],
            "_model_module": "@jupyter-widgets/controls",
            "_model_module_version": "1.5.0",
            "_model_name": "HBoxModel",
            "_view_count": null,
            "_view_module": "@jupyter-widgets/controls",
            "_view_module_version": "1.5.0",
            "_view_name": "HBoxView",
            "box_style": "",
            "children": [
              "IPY_MODEL_817e83a9d72d4a16bf303e24ef7edb29",
              "IPY_MODEL_bda8b0b7856e495fa0569d660dfbd45e",
              "IPY_MODEL_868abfadffea4baf8016644f6133f2bf"
            ],
            "layout": "IPY_MODEL_7d92b22a2acb4386826669d7f472e91a"
          }
        },
        "b1b1092f44fe40399eb9ff68b1697809": {
          "model_module": "@jupyter-widgets/controls",
          "model_module_version": "1.5.0",
          "model_name": "DescriptionStyleModel",
          "state": {
            "_model_module": "@jupyter-widgets/controls",
            "_model_module_version": "1.5.0",
            "_model_name": "DescriptionStyleModel",
            "_view_count": null,
            "_view_module": "@jupyter-widgets/base",
            "_view_module_version": "1.2.0",
            "_view_name": "StyleView",
            "description_width": ""
          }
        },
        "b3b98b6828dd429eb48153dec9be9a0b": {
          "model_module": "@jupyter-widgets/base",
          "model_module_version": "1.2.0",
          "model_name": "LayoutModel",
          "state": {
            "_model_module": "@jupyter-widgets/base",
            "_model_module_version": "1.2.0",
            "_model_name": "LayoutModel",
            "_view_count": null,
            "_view_module": "@jupyter-widgets/base",
            "_view_module_version": "1.2.0",
            "_view_name": "LayoutView",
            "align_content": null,
            "align_items": null,
            "align_self": null,
            "border": null,
            "bottom": null,
            "display": null,
            "flex": null,
            "flex_flow": null,
            "grid_area": null,
            "grid_auto_columns": null,
            "grid_auto_flow": null,
            "grid_auto_rows": null,
            "grid_column": null,
            "grid_gap": null,
            "grid_row": null,
            "grid_template_areas": null,
            "grid_template_columns": null,
            "grid_template_rows": null,
            "height": null,
            "justify_content": null,
            "justify_items": null,
            "left": null,
            "margin": null,
            "max_height": null,
            "max_width": null,
            "min_height": null,
            "min_width": null,
            "object_fit": null,
            "object_position": null,
            "order": null,
            "overflow": null,
            "overflow_x": null,
            "overflow_y": null,
            "padding": null,
            "right": null,
            "top": null,
            "visibility": null,
            "width": null
          }
        },
        "b605113a5bcf4801b8bc0f67ed701976": {
          "model_module": "@jupyter-widgets/controls",
          "model_module_version": "1.5.0",
          "model_name": "HBoxModel",
          "state": {
            "_dom_classes": [],
            "_model_module": "@jupyter-widgets/controls",
            "_model_module_version": "1.5.0",
            "_model_name": "HBoxModel",
            "_view_count": null,
            "_view_module": "@jupyter-widgets/controls",
            "_view_module_version": "1.5.0",
            "_view_name": "HBoxView",
            "box_style": "",
            "children": [
              "IPY_MODEL_0d68ca46105c4ec3b5634310e97a78c6",
              "IPY_MODEL_06a44f388a2c4dfdbc78c7c6c817494b",
              "IPY_MODEL_68dcdbbc359847e19ef240264b22bb6b"
            ],
            "layout": "IPY_MODEL_bb1e0646b5c3491f83153be589cd9d17"
          }
        },
        "b61ba4ba8696406998733d520b396436": {
          "model_module": "@jupyter-widgets/base",
          "model_module_version": "1.2.0",
          "model_name": "LayoutModel",
          "state": {
            "_model_module": "@jupyter-widgets/base",
            "_model_module_version": "1.2.0",
            "_model_name": "LayoutModel",
            "_view_count": null,
            "_view_module": "@jupyter-widgets/base",
            "_view_module_version": "1.2.0",
            "_view_name": "LayoutView",
            "align_content": null,
            "align_items": null,
            "align_self": null,
            "border": null,
            "bottom": null,
            "display": null,
            "flex": null,
            "flex_flow": null,
            "grid_area": null,
            "grid_auto_columns": null,
            "grid_auto_flow": null,
            "grid_auto_rows": null,
            "grid_column": null,
            "grid_gap": null,
            "grid_row": null,
            "grid_template_areas": null,
            "grid_template_columns": null,
            "grid_template_rows": null,
            "height": null,
            "justify_content": null,
            "justify_items": null,
            "left": null,
            "margin": null,
            "max_height": null,
            "max_width": null,
            "min_height": null,
            "min_width": null,
            "object_fit": null,
            "object_position": null,
            "order": null,
            "overflow": null,
            "overflow_x": null,
            "overflow_y": null,
            "padding": null,
            "right": null,
            "top": null,
            "visibility": null,
            "width": null
          }
        },
        "bb1e0646b5c3491f83153be589cd9d17": {
          "model_module": "@jupyter-widgets/base",
          "model_module_version": "1.2.0",
          "model_name": "LayoutModel",
          "state": {
            "_model_module": "@jupyter-widgets/base",
            "_model_module_version": "1.2.0",
            "_model_name": "LayoutModel",
            "_view_count": null,
            "_view_module": "@jupyter-widgets/base",
            "_view_module_version": "1.2.0",
            "_view_name": "LayoutView",
            "align_content": null,
            "align_items": null,
            "align_self": null,
            "border": null,
            "bottom": null,
            "display": null,
            "flex": null,
            "flex_flow": null,
            "grid_area": null,
            "grid_auto_columns": null,
            "grid_auto_flow": null,
            "grid_auto_rows": null,
            "grid_column": null,
            "grid_gap": null,
            "grid_row": null,
            "grid_template_areas": null,
            "grid_template_columns": null,
            "grid_template_rows": null,
            "height": null,
            "justify_content": null,
            "justify_items": null,
            "left": null,
            "margin": null,
            "max_height": null,
            "max_width": null,
            "min_height": null,
            "min_width": null,
            "object_fit": null,
            "object_position": null,
            "order": null,
            "overflow": null,
            "overflow_x": null,
            "overflow_y": null,
            "padding": null,
            "right": null,
            "top": null,
            "visibility": null,
            "width": null
          }
        },
        "bda8b0b7856e495fa0569d660dfbd45e": {
          "model_module": "@jupyter-widgets/controls",
          "model_module_version": "1.5.0",
          "model_name": "FloatProgressModel",
          "state": {
            "_dom_classes": [],
            "_model_module": "@jupyter-widgets/controls",
            "_model_module_version": "1.5.0",
            "_model_name": "FloatProgressModel",
            "_view_count": null,
            "_view_module": "@jupyter-widgets/controls",
            "_view_module_version": "1.5.0",
            "_view_name": "ProgressView",
            "bar_style": "success",
            "description": "",
            "description_tooltip": null,
            "layout": "IPY_MODEL_14f089fc2a73427f9bdfb0359219076a",
            "max": 456318,
            "min": 0,
            "orientation": "horizontal",
            "style": "IPY_MODEL_d77211256742438cabaed9ab3303b12b",
            "value": 456318
          }
        },
        "bef1c7691c5240ed922b902ef6105f41": {
          "model_module": "@jupyter-widgets/controls",
          "model_module_version": "1.5.0",
          "model_name": "ProgressStyleModel",
          "state": {
            "_model_module": "@jupyter-widgets/controls",
            "_model_module_version": "1.5.0",
            "_model_name": "ProgressStyleModel",
            "_view_count": null,
            "_view_module": "@jupyter-widgets/base",
            "_view_module_version": "1.2.0",
            "_view_name": "StyleView",
            "bar_color": null,
            "description_width": ""
          }
        },
        "bff7202b9ca1402d9ea5992a15ddca95": {
          "model_module": "@jupyter-widgets/controls",
          "model_module_version": "1.5.0",
          "model_name": "FloatProgressModel",
          "state": {
            "_dom_classes": [],
            "_model_module": "@jupyter-widgets/controls",
            "_model_module_version": "1.5.0",
            "_model_name": "FloatProgressModel",
            "_view_count": null,
            "_view_module": "@jupyter-widgets/controls",
            "_view_module_version": "1.5.0",
            "_view_name": "ProgressView",
            "bar_style": "success",
            "description": "",
            "description_tooltip": null,
            "layout": "IPY_MODEL_511ad99443da4396b877ee3a7ad364a7",
            "max": 52,
            "min": 0,
            "orientation": "horizontal",
            "style": "IPY_MODEL_6a77123106354f2eb12277910af5c928",
            "value": 52
          }
        },
        "c8cb6d0c27ff412792bb7d0f6248b39c": {
          "model_module": "@jupyter-widgets/controls",
          "model_module_version": "1.5.0",
          "model_name": "DescriptionStyleModel",
          "state": {
            "_model_module": "@jupyter-widgets/controls",
            "_model_module_version": "1.5.0",
            "_model_name": "DescriptionStyleModel",
            "_view_count": null,
            "_view_module": "@jupyter-widgets/base",
            "_view_module_version": "1.2.0",
            "_view_name": "StyleView",
            "description_width": ""
          }
        },
        "cf7ce3a7f2c941709514fb2a614118e1": {
          "model_module": "@jupyter-widgets/base",
          "model_module_version": "1.2.0",
          "model_name": "LayoutModel",
          "state": {
            "_model_module": "@jupyter-widgets/base",
            "_model_module_version": "1.2.0",
            "_model_name": "LayoutModel",
            "_view_count": null,
            "_view_module": "@jupyter-widgets/base",
            "_view_module_version": "1.2.0",
            "_view_name": "LayoutView",
            "align_content": null,
            "align_items": null,
            "align_self": null,
            "border": null,
            "bottom": null,
            "display": null,
            "flex": null,
            "flex_flow": null,
            "grid_area": null,
            "grid_auto_columns": null,
            "grid_auto_flow": null,
            "grid_auto_rows": null,
            "grid_column": null,
            "grid_gap": null,
            "grid_row": null,
            "grid_template_areas": null,
            "grid_template_columns": null,
            "grid_template_rows": null,
            "height": null,
            "justify_content": null,
            "justify_items": null,
            "left": null,
            "margin": null,
            "max_height": null,
            "max_width": null,
            "min_height": null,
            "min_width": null,
            "object_fit": null,
            "object_position": null,
            "order": null,
            "overflow": null,
            "overflow_x": null,
            "overflow_y": null,
            "padding": null,
            "right": null,
            "top": null,
            "visibility": null,
            "width": null
          }
        },
        "d64ac9a2bd4c473f96f7ce5ffc34ce6c": {
          "model_module": "@jupyter-widgets/controls",
          "model_module_version": "1.5.0",
          "model_name": "HTMLModel",
          "state": {
            "_dom_classes": [],
            "_model_module": "@jupyter-widgets/controls",
            "_model_module_version": "1.5.0",
            "_model_name": "HTMLModel",
            "_view_count": null,
            "_view_module": "@jupyter-widgets/controls",
            "_view_module_version": "1.5.0",
            "_view_name": "HTMLView",
            "description": "",
            "description_tooltip": null,
            "layout": "IPY_MODEL_b3b98b6828dd429eb48153dec9be9a0b",
            "placeholder": "​",
            "style": "IPY_MODEL_4b8edbdbadbc419b95b6efa557b8d2fe",
            "value": "vocab.json: 100%"
          }
        },
        "d77211256742438cabaed9ab3303b12b": {
          "model_module": "@jupyter-widgets/controls",
          "model_module_version": "1.5.0",
          "model_name": "ProgressStyleModel",
          "state": {
            "_model_module": "@jupyter-widgets/controls",
            "_model_module_version": "1.5.0",
            "_model_name": "ProgressStyleModel",
            "_view_count": null,
            "_view_module": "@jupyter-widgets/base",
            "_view_module_version": "1.2.0",
            "_view_name": "StyleView",
            "bar_color": null,
            "description_width": ""
          }
        },
        "dfaf490a214a41fc99b825f62313b318": {
          "model_module": "@jupyter-widgets/controls",
          "model_module_version": "1.5.0",
          "model_name": "ProgressStyleModel",
          "state": {
            "_model_module": "@jupyter-widgets/controls",
            "_model_module_version": "1.5.0",
            "_model_name": "ProgressStyleModel",
            "_view_count": null,
            "_view_module": "@jupyter-widgets/base",
            "_view_module_version": "1.2.0",
            "_view_name": "StyleView",
            "bar_color": null,
            "description_width": ""
          }
        },
        "e59aa4309e2d4be78cc33dbf134c7e05": {
          "model_module": "@jupyter-widgets/controls",
          "model_module_version": "1.5.0",
          "model_name": "HTMLModel",
          "state": {
            "_dom_classes": [],
            "_model_module": "@jupyter-widgets/controls",
            "_model_module_version": "1.5.0",
            "_model_name": "HTMLModel",
            "_view_count": null,
            "_view_module": "@jupyter-widgets/controls",
            "_view_module_version": "1.5.0",
            "_view_name": "HTMLView",
            "description": "",
            "description_tooltip": null,
            "layout": "IPY_MODEL_31c302ac2c524290a71a3809664a65b6",
            "placeholder": "​",
            "style": "IPY_MODEL_635045ff2ff645639b1ebb72f6a1c7d2",
            "value": " 899k/899k [00:00&lt;00:00, 8.40MB/s]"
          }
        },
        "f37bed816fd243b98857b54756f9aac5": {
          "model_module": "@jupyter-widgets/controls",
          "model_module_version": "1.5.0",
          "model_name": "DescriptionStyleModel",
          "state": {
            "_model_module": "@jupyter-widgets/controls",
            "_model_module_version": "1.5.0",
            "_model_name": "DescriptionStyleModel",
            "_view_count": null,
            "_view_module": "@jupyter-widgets/base",
            "_view_module_version": "1.2.0",
            "_view_name": "StyleView",
            "description_width": ""
          }
        },
        "f4f3eed3012d4f8eb7f1970121172d92": {
          "model_module": "@jupyter-widgets/base",
          "model_module_version": "1.2.0",
          "model_name": "LayoutModel",
          "state": {
            "_model_module": "@jupyter-widgets/base",
            "_model_module_version": "1.2.0",
            "_model_name": "LayoutModel",
            "_view_count": null,
            "_view_module": "@jupyter-widgets/base",
            "_view_module_version": "1.2.0",
            "_view_name": "LayoutView",
            "align_content": null,
            "align_items": null,
            "align_self": null,
            "border": null,
            "bottom": null,
            "display": null,
            "flex": null,
            "flex_flow": null,
            "grid_area": null,
            "grid_auto_columns": null,
            "grid_auto_flow": null,
            "grid_auto_rows": null,
            "grid_column": null,
            "grid_gap": null,
            "grid_row": null,
            "grid_template_areas": null,
            "grid_template_columns": null,
            "grid_template_rows": null,
            "height": null,
            "justify_content": null,
            "justify_items": null,
            "left": null,
            "margin": null,
            "max_height": null,
            "max_width": null,
            "min_height": null,
            "min_width": null,
            "object_fit": null,
            "object_position": null,
            "order": null,
            "overflow": null,
            "overflow_x": null,
            "overflow_y": null,
            "padding": null,
            "right": null,
            "top": null,
            "visibility": null,
            "width": null
          }
        },
        "fba5045bc23b4ba5984382e1e63024d5": {
          "model_module": "@jupyter-widgets/controls",
          "model_module_version": "1.5.0",
          "model_name": "HTMLModel",
          "state": {
            "_dom_classes": [],
            "_model_module": "@jupyter-widgets/controls",
            "_model_module_version": "1.5.0",
            "_model_name": "HTMLModel",
            "_view_count": null,
            "_view_module": "@jupyter-widgets/controls",
            "_view_module_version": "1.5.0",
            "_view_name": "HTMLView",
            "description": "",
            "description_tooltip": null,
            "layout": "IPY_MODEL_2c927e14010a489fb7a8cd0a26c82541",
            "placeholder": "​",
            "style": "IPY_MODEL_c8cb6d0c27ff412792bb7d0f6248b39c",
            "value": " 52.0/52.0 [00:00&lt;00:00, 3.44kB/s]"
          }
        }
      }
    }
  },
  "nbformat": 4,
  "nbformat_minor": 0
}
